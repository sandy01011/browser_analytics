{
 "cells": [
  {
   "cell_type": "code",
   "execution_count": 1,
   "metadata": {},
   "outputs": [],
   "source": [
    "# import required liberaries\n",
    "import pymongo\n",
    "import pandas as pd\n",
    "import json\n",
    "from app_env import read_env"
   ]
  },
  {
   "cell_type": "code",
   "execution_count": 2,
   "metadata": {},
   "outputs": [
    {
     "name": "stdout",
     "output_type": "stream",
     "text": [
      "loading meta\n"
     ]
    },
    {
     "data": {
      "text/plain": [
       "True"
      ]
     },
     "execution_count": 2,
     "metadata": {},
     "output_type": "execute_result"
    }
   ],
   "source": [
    "#  mongodb  connector\n",
    "metadata = json.loads(read_env())\n",
    "username = metadata['db']['dbuser']\n",
    "password = metadata['db']['dbpassword']\n",
    "URI = metadata['db']['uri']\n",
    "db_col = metadata['db']['collectiondb']\n",
    "db_collection = metadata['db']['collection']\n",
    "\n",
    "client = pymongo.MongoClient(URI)\n",
    "db = client[db_col]\n",
    "db.authenticate(username, password)\n",
    "#client = pymongo.MongoClient(URI)\n",
    "#db = client['browsermon']\n",
    "#db.authenticate('whiteeye', 'F0cus@p0int')"
   ]
  },
  {
   "cell_type": "code",
   "execution_count": 3,
   "metadata": {},
   "outputs": [
    {
     "data": {
      "text/plain": [
       "['browserCollector']"
      ]
     },
     "execution_count": 3,
     "metadata": {},
     "output_type": "execute_result"
    }
   ],
   "source": [
    "db.list_collection_names()"
   ]
  },
  {
   "cell_type": "code",
   "execution_count": 4,
   "metadata": {},
   "outputs": [],
   "source": [
    "collection = db[db_collection]"
   ]
  },
  {
   "cell_type": "code",
   "execution_count": 5,
   "metadata": {},
   "outputs": [
    {
     "data": {
      "text/plain": [
       "pymongo.collection.Collection"
      ]
     },
     "execution_count": 5,
     "metadata": {},
     "output_type": "execute_result"
    }
   ],
   "source": [
    "type(collection)"
   ]
  },
  {
   "cell_type": "code",
   "execution_count": 6,
   "metadata": {},
   "outputs": [],
   "source": [
    "collection_list = collection.find({'bid': 'sk2011mishra@gmail.com'})"
   ]
  },
  {
   "cell_type": "code",
   "execution_count": 7,
   "metadata": {},
   "outputs": [
    {
     "data": {
      "text/plain": [
       "pymongo.cursor.Cursor"
      ]
     },
     "execution_count": 7,
     "metadata": {},
     "output_type": "execute_result"
    }
   ],
   "source": [
    "type(collection_list)"
   ]
  },
  {
   "cell_type": "code",
   "execution_count": 8,
   "metadata": {},
   "outputs": [],
   "source": [
    "collection_list = [data for data in collection_list]"
   ]
  },
  {
   "cell_type": "code",
   "execution_count": 72,
   "metadata": {},
   "outputs": [
    {
     "name": "stdout",
     "output_type": "stream",
     "text": [
      "{'_id': ObjectId('61bdf715e1e30c7d0b985ca6'), 'bid': 'sk2011mishra@gmail.com', 'load_time': '2021-12-18 15:58:29', 'data': {'search': {}, 'history': {'0': {'id': 1, 'url': 'https://admin.google.com/u/0/ac/billing/interstitial/suspendedsubscription/Tk8KnUzA1JaO3wxjxQxFjQ?snip=x', 'title': 'Subscription suspended - Admin Console', 'visit_count': 1, 'typed_count': 0, 'last_visit_time': '2021-10-09 13:26:41', 'hidden': 0, 'visit_time': '2021-10-09 13:26:41', 'from_visit': 0, 'visit_duration': 0, 'transition': 268435458, 'source': None}, '1': {'id': 2, 'url': 'https://accounts.google.com/ServiceLogin?passive=1209600&osid=1&continue=https://admin.google.com/u/0/ac/billing/interstitial/suspendedsubscription/Tk8KnUzA1JaO3wxjxQxFjQ?snip%3Dx&followup=https://admin.google.com/u/0/ac/billing/interstitial/suspendedsubscription/Tk8KnUzA1JaO3wxjxQxFjQ?snip%3Dx&authuser=0', 'title': 'Subscription suspended - Admin Console', 'visit_count': 1, 'typed_count': 0, 'last_visit_time': '2021-10-09 13:26:41', 'hidden': 0, 'visit_time': '2021-10-09 13:26:41', 'from_visit': 1, 'visit_duration': 0, 'transition': 2147483650, 'source': None}, '2': {'id': 3, 'url': 'https://admin.google.com/accounts/SetOSID?authuser=0&continue=https%3A%2F%2Fadmin.google.com%2Fu%2F0%2Fac%2Fbilling%2Finterstitial%2Fsuspendedsubscription%2FTk8KnUzA1JaO3wxjxQxFjQ%3Fsnip%3Dx%26pli%3D1&osidt=ALWU2cvO-muTj8cp8jgvaaZZ_XLVKf2g-nLpJUBbwG6_v_ez9BcxuTO-wY6vX9iwFBp7CdEs_ZMdIwtnrmv3WAx0EtPllrh9QUStGfgzEAgMirHhqvqMmXyW2ZgcYN6U1yuZTkgOGv-RVO3HWES9riXZdze6m5OxqeOKX_EX74OcEq9WgQsbe54Jdpy8JKEb_0KX8ecpJbJ97isDM6RldhHJCdilKj4E4g&ifkv=AU9NCcxmqgTvBpV2xCqHQTQzkZpWGxQ_S0yB1BASIeK7sQTm9jlHKFX3OFMGQ6nYWwbdjKPj1t6D', 'title': 'Subscription suspended - Admin Console', 'visit_count': 1, 'typed_count': 0, 'last_visit_time': '2021-10-09 13:26:41', 'hidden': 0, 'visit_time': '2021-10-09 13:26:41', 'from_visit': 2, 'visit_duration': 0, 'transition': 2147483650, 'source': None}, '3': {'id': 4, 'url': 'https://admin.google.com/u/0/ac/billing/interstitial/suspendedsubscription/Tk8KnUzA1JaO3wxjxQxFjQ?snip=x&pli=1', 'title': 'Subscription suspended - Admin Console', 'visit_count': 2, 'typed_count': 0, 'last_visit_time': '2021-10-09 13:26:42', 'hidden': 0, 'visit_time': '2021-10-09 13:26:41', 'from_visit': 3, 'visit_duration': 0, 'transition': 2684354562, 'source': None}, '4': {'id': 4, 'url': 'https://admin.google.com/u/0/ac/billing/interstitial/suspendedsubscription/Tk8KnUzA1JaO3wxjxQxFjQ?snip=x&pli=1', 'title': 'Subscription suspended - Admin Console', 'visit_count': 2, 'typed_count': 0, 'last_visit_time': '2021-10-09 13:26:42', 'hidden': 0, 'visit_time': '2021-10-09 13:26:42', 'from_visit': 0, 'visit_duration': 0, 'transition': 805306368, 'source': None}, '5': {'id': 5, 'url': 'https://admin.google.com/u/0/ac/billing/subscriptions/Tk8KnUzA1JaO3wxjxQxFjQ?snip=x', 'title': 'Google Workspace Business Standard - Admin Console', 'visit_count': 2, 'typed_count': 0, 'last_visit_time': '2021-10-09 13:26:50', 'hidden': 0, 'visit_time': '2021-10-09 13:26:49', 'from_visit': 5, 'visit_duration': 0, 'transition': 1073741824, 'source': None}, '6': {'id': 5, 'url': 'https://admin.google.com/u/0/ac/billing/subscriptions/Tk8KnUzA1JaO3wxjxQxFjQ?snip=x', 'title': 'Google Workspace Business Standard - Admin Console', 'visit_count': 2, 'typed_count': 0, 'last_visit_time': '2021-10-09 13:26:50', 'hidden': 0, 'visit_time': '2021-10-09 13:26:50', 'from_visit': 6, 'visit_duration': 0, 'transition': 1610612736, 'source': None}, '7': {'id': 6, 'url': 'https://admin.google.com/u/0/ac/billing/buy?action=BUY&sku_id=GOOGLE.GAU_2021&snip=x&journey=17&snip=x', 'title': 'Subscriptions - Admin Console', 'visit_count': 2, 'typed_count': 0, 'last_visit_time': '2021-10-09 13:27:11', 'hidden': 0, 'visit_time': '2021-10-09 13:27:10', 'from_visit': 7, 'visit_duration': 0, 'transition': 1073741824, 'source': None}, '8': {'id': 6, 'url': 'https://admin.google.com/u/0/ac/billing/buy?action=BUY&sku_id=GOOGLE.GAU_2021&snip=x&journey=17&snip=x', 'title': 'Subscriptions - Admin Console', 'visit_count': 2, 'typed_count': 0, 'last_visit_time': '2021-10-09 13:27:11', 'hidden': 0, 'visit_time': '2021-10-09 13:27:11', 'from_visit': 8, 'visit_duration': 0, 'transition': 1073741824, 'source': None}, '9': {'id': 7, 'url': 'https://payments.google.com/efe/payments/u/0/embedded/buy_flow?cn=%24p_uz5o8c7bymx31&eo=https%3A%2F%2Fadmin.google.com&hostOrigin=aHR0cHM6Ly9hZG1pbi5nb29nbGUuY29t&icn=%24p_gwzvgon7ohkb0&initiatorElementId=buyFlow&initiatorFrameKey=1&ipi=mzmthgft8733&hl=en&mm=p&origin=https%3A%2F%2Fadmin.google.com&si=61005847829167&style=%3Anav%3DNO%3Btn%3Dac%3Bmd&cst=1633786082827&wst=1633786082816&sri=-45', 'title': '', 'visit_count': 1, 'typed_count': 0, 'last_visit_time': '2021-10-09 13:30:48', 'hidden': 1, 'visit_time': '2021-10-09 13:30:48', 'from_visit': 0, 'visit_duration': 0, 'transition': 805306372, 'source': None}, '10': {'id': 8, 'url': 'https://pay.billdesk.com/fusionweb/redirect/79696e2f-3c27-4bfd-8834-836f46796c47', 'title': 'Spring Boot Application', 'visit_count': 1, 'typed_count': 0, 'last_visit_time': '2021-10-09 13:30:53', 'hidden': 0, 'visit_time': '2021-10-09 13:30:53', 'from_visit': 0, 'visit_duration': 586461, 'transition': 805306368, 'source': None}, '11': {'id': 9, 'url': 'https://www.3dsecure1.icicibank.com/ACSWeb/EnrollWeb/ICICIBank/auth/VBV.jsp;jsessionid=mOZlP9HbWBinxQ7vDAuJ0oTxvdNN_hxMeoHP9Rj8j515DYtQE5Du!1708473268?uniqueId=2vB2kC8gC4gJ41633786253841', 'title': 'Verified By Visa - Payer Authentication...', 'visit_count': 1, 'typed_count': 0, 'last_visit_time': '2021-10-09 13:30:53', 'hidden': 0, 'visit_time': '2021-10-09 13:30:53', 'from_visit': 11, 'visit_duration': 19977689, 'transition': 805306375, 'source': None}, '12': {'id': 10, 'url': 'https://www.3dsecure1.icicibank.com/ACSWeb/EnrollWeb/ICICIBank/server/AccessControlServer?perform=USER_AUTH&CANCEL=false&ISSUER_ID=8112&uniqueId=2vB2kC8gC4gJ41633786253841', 'title': 'Your transaction is being processed, Please wait', 'visit_count': 1, 'typed_count': 0, 'last_visit_time': '2021-10-09 13:31:13', 'hidden': 0, 'visit_time': '2021-10-09 13:31:13', 'from_visit': 12, 'visit_duration': 16168318, 'transition': 805306375, 'source': None}, '13': {'id': 11, 'url': 'https://payments.google.com/payments/apis/rl/3dsi/c~ZeoZppn?authenticateRequestId=G3HTnbkaNBpvu2T7oMHePXA&paymentIntegratorAccountId=BD13WORCD&redirectUrlResponse=hQEMA_gGiNw6MA0-AQf_ftQLGkzdi83jbybzxv_PDdGpQx9vlsC3cl5zZjbVkpwjeQxRxLRGBv7Zrg8cVOau-6-dm5poWBAMdwPh89g7PQ1dR6IjcJnwqNHkrUGuGXzGI7d6gb8QyT62SIVzm2fZY0iWu41tg-h6WkeG-1NCezRTwTJ1vXMtHgdnNKSgP8LDYMSUR3x0GYqqQYCIkqAaKQ3c2NAM7LHIBAnI1Ofypk1Qv0vbW6kAEbcgo4wiBGZYOFyze8vUQW7swhPaMJvt7jM2hqvRH5vm3IwiK4wKRoKNzmAppCunrBdGkXkW4TH19dulEH9r8dTu4iwpHVTtEGCmVMn8eexCZQgAaH8hsoUBDAMYQfi6Rk1vUwEH_3nwVauRkKuSdpRwX2-txB3Mo5OfdVnXn_iYOmJKW3vbynqHcWDUj-k2V_1M3ajlZHK0lFJRGnsApP9fai6Axvc9lsbCC7IdL1FfNccGquTOWD5zyY-LV5Acv8xN4o_hlYcI_mtyF3NqBfPSc60xYqrBZI7NRLkT0BDw12ApvnVYe1ZLKQ3hQPbez3m8O_EHiTDvwId3Gx_sXQqXY0PbrlHZqZy5lAQXLsyE3hA4B6gLTWe_Gx3xjb2o3zzQlBbIAqZrewgatbUfqvU0zjwSlDKZPyVmU62zrnlFbjAN81zFvLxzAOpWhD0a7IdHVDuQ7w22nZO2tkvcYaMBOsf3KOSFAQwDsLYQSDjMgy8BCAC7KM8r11qhQPj-hnNcLa3HmJmiLycCDwyUSK4rgdbVwdutsFyPOvpNhLzkvg2S5a4QiP0kROJQiXaoRd0VS_fHVXxVG0A8kkR1ZiO42_ox4I5KdJUcWOqYNtoAsh1s1iDDkbi6HuamjHoED5hsSTsA0ISDg6QC7YuXNBEEyHQ05WDGuQCJyHSVKElXwFaVJCvnz0W6byR6pJpfwV9q8qMNFKZrZUHgK2h-h7p0jkTOMLowVmHPQOmAnNEBx3NipnQ_6aetm2WkDQreN7d-K94sFBq1nb4J7vr3Fy8kpgE0i07boV79FeO9t8uMQgEgL2cqmS5lIMVCP0Adg2MzK5zYhQEMA-HBfeq2aon9AQgAoQG0GaImEUwFboE2sVQdI9DTn9VtmS5z2RBZsEKz2mks0uN01x2MGBXqjsSZ4NGAk9P81LWK_cdgj5iHToyXcXp7v6zQ48gn1uzd4DfpUU2VM_OSk1YAbVnuuZGhQel_WKMAhBx4SkhL9EhQKiBkGfbOEaMp25vb6pBYUYFELUBaN-blASjjgvJwBPR7Z8YajldzXZ964p6f9dkhRi59zDfPLDX-ALmIubVD-JTt_un6Lt9c-Sgg_HL_WHuoOaES6staz9MpOmmL1ubXWgP-bvxRAnNWIiQcmY85lRC_HHSHDf-Dki8oRaSFIvoiAnQFJte4Fds5C81lBQlArP06UNLCfwF1hXixZP7ZXOBvxdS6dH0wI8hOWsbrPVTc1V-gveUc60CxfnF8qj0JOZA2keIsm_1s2OI58env9s1qXrlqd3Qo16p31PmwvK_K4yUNTNB2d7jGqwXuqPux9RXgXzNvFQpsi21i1Ji2qzeSe8Qj-eAEPBaMHuQoKp5GLdLW8aMyfjUT1MsypXgcF2xEwGWgMHEuR5pe-J3S8J2PzKu5rhsF6K__bTHnzUisTJRLLeIFOW-KDaF3uck5rxBGfG3WjmWQzuU-FVQVsna7IZH4yhS2RwLN0a4Eo9Ge2Yq9jVR40TUCxJoVy2H2_m7pP6O53fmNmWvih0vSbvpgQRt0V4dieNSvshEPukfFxyl79--Jynbv3zrWEuNuDx7L1y7eWYe5uGb6Y_RUeDK1kGsTBQ2ytr76SzUK8hpxmbgk8c8sqxlGwoFIg4osXmtSEJtbuvOMj_6rSdmUmG9555ypInfOsTYmp-u1e1xQFFGsl--oiY64mPibKjfvz7GHIDV-pfSJpjr54DDGT7W61RjZiKJK5lpcRYtTZdQCSQ6v6w1RKbkGRB1H_t49pTOvm_k6pGUp-hyi00DeIqzmXPUx1C0OBU2KI24Jutl6FpTTgV-ALvHkFbEa_seJVAOMHEnDfbt9_opVsv23zvd27O5LOHNhiWAqScqMXzVeobuAJ7R_N3YDaT8A5ViWB8YHL-H-9-uRmCWleQ5NHi-G0V4aOlRTtWQxoSxNj550mDc_M423BIQMlvfSsq_y6StxDTDNl8xo9lPF-5XmGlNPQt78oRKzzusQMV8-x7Ibt7KD3Lobgjer7FFbnWYRZDFtMaUUXzC_HPV39-feOisQ-Oxvdgk0XelRZAFLdYXTR1j5rl42qospvhSsiYqMbtEe112l3iAqjDb9Bo6jFgwCFUyemyBDDKFjYq8WIUJ1ECadlBXgkVJcOig5tla14SztIF4a-xINGUrPFnZTvJjPHY0k68acGDlB25Y7AvcqvZNQplrWcAcd5MRaN1ObRSBODFrmUcG8SlB_KIvU3KNKGA5sqew7lWGSthcssZeuD10SuHLnAEHeooty6DU37FIp-O5cVXlwe_8M2bVoK6EcTtUrog==', 'title': 'Complete redirect', 'visit_count': 1, 'typed_count': 0, 'last_visit_time': '2021-10-09 13:31:30', 'hidden': 0, 'visit_time': '2021-10-09 13:31:30', 'from_visit': 13, 'visit_duration': 38478, 'transition': 805306375, 'source': None}, '14': {'id': 12, 'url': 'https://admin.google.com/u/0/ac/billing/subscriptions?journey=17', 'title': 'Subscriptions - Admin Console', 'visit_count': 3, 'typed_count': 0, 'last_visit_time': '2021-10-09 13:31:56', 'hidden': 0, 'visit_time': '2021-10-09 13:31:54', 'from_visit': 9, 'visit_duration': 0, 'transition': 1073741824, 'source': None}, '15': {'id': 12, 'url': 'https://admin.google.com/u/0/ac/billing/subscriptions?journey=17', 'title': 'Subscriptions - Admin Console', 'visit_count': 3, 'typed_count': 0, 'last_visit_time': '2021-10-09 13:31:56', 'hidden': 0, 'visit_time': '2021-10-09 13:31:56', 'from_visit': 15, 'visit_duration': 0, 'transition': 1610612736, 'source': None}, '16': {'id': 12, 'url': 'https://admin.google.com/u/0/ac/billing/subscriptions?journey=17', 'title': 'Subscriptions - Admin Console', 'visit_count': 3, 'typed_count': 0, 'last_visit_time': '2021-10-09 13:31:56', 'hidden': 0, 'visit_time': '2021-10-09 13:31:56', 'from_visit': 16, 'visit_duration': 0, 'transition': 1610612736, 'source': None}, '17': {'id': 13, 'url': 'http://gmail.com/', 'title': 'Inbox (7) - sandeep.mishra@aumnix.com - aumnix.com Mail', 'visit_count': 1, 'typed_count': 0, 'last_visit_time': '2021-10-09 13:32:26', 'hidden': 0, 'visit_time': '2021-10-09 13:32:26', 'from_visit': 0, 'visit_duration': 0, 'transition': 268435457, 'source': None}, '18': {'id': 14, 'url': 'https://gmail.com/', 'title': 'Inbox (7) - sandeep.mishra@aumnix.com - aumnix.com Mail', 'visit_count': 1, 'typed_count': 1, 'last_visit_time': '2021-10-09 13:32:26', 'hidden': 0, 'visit_time': '2021-10-09 13:32:26', 'from_visit': 18, 'visit_duration': 0, 'transition': 2147483649, 'source': None}, '19': {'id': 15, 'url': 'https://www.google.com/gmail/', 'title': 'Inbox (7) - sandeep.mishra@aumnix.com - aumnix.com Mail', 'visit_count': 1, 'typed_count': 0, 'last_visit_time': '2021-10-09 13:32:26', 'hidden': 0, 'visit_time': '2021-10-09 13:32:26', 'from_visit': 19, 'visit_duration': 0, 'transition': 2147483649, 'source': None}, '20': {'id': 16, 'url': 'https://mail.google.com/mail/', 'title': 'Inbox (7) - sandeep.mishra@aumnix.com - aumnix.com Mail', 'visit_count': 1, 'typed_count': 0, 'last_visit_time': '2021-10-09 13:32:26', 'hidden': 0, 'visit_time': '2021-10-09 13:32:26', 'from_visit': 20, 'visit_duration': 0, 'transition': 2147483649, 'source': None}, '21': {'id': 17, 'url': 'https://accounts.google.com/ServiceLogin?service=mail&passive=true&rm=false&continue=https://mail.google.com/mail/&ss=1&scc=1&ltmpl=default&ltmplcache=2&emr=1&osid=1#', 'title': 'Inbox (7) - sandeep.mishra@aumnix.com - aumnix.com Mail', 'visit_count': 1, 'typed_count': 0, 'last_visit_time': '2021-10-09 13:32:26', 'hidden': 0, 'visit_time': '2021-10-09 13:32:26', 'from_visit': 21, 'visit_duration': 0, 'transition': 2147483649, 'source': None}, '22': {'id': 18, 'url': 'https://mail.google.com/accounts/SetOSID?authuser=0&continue=https%3A%2F%2Fmail.google.com%2Fmail%2F%3Fpli%3D1&osidt=ALWU2ct8VIZqjIzFveiNsHN-7AMBs3z4c1rf9FhcRBuJE1sYqRDoSDYGWyuuYHV_1eN8VCc9Vfhqx8NawEWwhiTA738qyAsklSKyyPo3syD8Td6gFqikaog8w9gPR3gIpS6PxUdPZSfJxxDmZ2vx9VPEk6GeIRaQ1oebxq7Ic-lXfG4CKw1M2_A9GXRyQYd30BKo_n_IYELbE0HaijgPS0nvH1hIkmHeZg&ifkv=AU9NCczhIY1pc4oDwJM0jDVAi9ToOp5QRbTPbvVcY1EChcGLK_sptZc7TRWrEMMFC86YOlrsDfvB#', 'title': 'Inbox (7) - sandeep.mishra@aumnix.com - aumnix.com Mail', 'visit_count': 1, 'typed_count': 0, 'last_visit_time': '2021-10-09 13:32:26', 'hidden': 0, 'visit_time': '2021-10-09 13:32:26', 'from_visit': 22, 'visit_duration': 0, 'transition': 2147483649, 'source': None}, '23': {'id': 19, 'url': 'https://mail.google.com/mail/?pli=1#', 'title': 'Inbox (7) - sandeep.mishra@aumnix.com - aumnix.com Mail', 'visit_count': 1, 'typed_count': 0, 'last_visit_time': '2021-10-09 13:32:26', 'hidden': 0, 'visit_time': '2021-10-09 13:32:26', 'from_visit': 23, 'visit_duration': 0, 'transition': 2147483649, 'source': None}, '24': {'id': 20, 'url': 'https://mail.google.com/mail/u/0/?pli=1#', 'title': 'Inbox (7) - sandeep.mishra@aumnix.com - aumnix.com Mail', 'visit_count': 1, 'typed_count': 0, 'last_visit_time': '2021-10-09 13:32:26', 'hidden': 0, 'visit_time': '2021-10-09 13:32:26', 'from_visit': 24, 'visit_duration': 0, 'transition': 2147483649, 'source': None}, '25': {'id': 21, 'url': 'https://mail.google.com/mail/u/0/#', 'title': 'Inbox (7) - sandeep.mishra@aumnix.com - aumnix.com Mail', 'visit_count': 1, 'typed_count': 0, 'last_visit_time': '2021-10-09 13:32:26', 'hidden': 0, 'visit_time': '2021-10-09 13:32:26', 'from_visit': 25, 'visit_duration': 0, 'transition': 2147483649, 'source': None}, '26': {'id': 22, 'url': 'https://mail.google.com/mail/u/0/#inbox', 'title': 'aumnix.com Mail', 'visit_count': 5, 'typed_count': 0, 'last_visit_time': '2021-10-13 06:42:37', 'hidden': 0, 'visit_time': '2021-10-09 13:32:26', 'from_visit': 26, 'visit_duration': 0, 'transition': 1073741824, 'source': None}, '27': {'id': 23, 'url': 'https://mail.google.com/mail/u/0/#inbox?compose=new', 'title': 'Inbox (7) - sandeep.mishra@aumnix.com - aumnix.com Mail', 'visit_count': 1, 'typed_count': 0, 'last_visit_time': '2021-10-09 13:32:45', 'hidden': 0, 'visit_time': '2021-10-09 13:32:45', 'from_visit': 27, 'visit_duration': 0, 'transition': 1073741824, 'source': None}, '28': {'id': 22, 'url': 'https://mail.google.com/mail/u/0/#inbox', 'title': 'aumnix.com Mail', 'visit_count': 5, 'typed_count': 0, 'last_visit_time': '2021-10-13 06:42:37', 'hidden': 0, 'visit_time': '2021-10-09 13:32:53', 'from_visit': 28, 'visit_duration': 0, 'transition': 1610612736, 'source': None}, '29': {'id': 24, 'url': 'https://mail.google.com/mail/u/0/#inbox/FMfcgzGlkFvBJjHFcxRDttLsscQXLNfh', 'title': 'sandeep mishra, your tax invoice is now available. - sandeep.mishra@aumnix.com - aumnix.com Mail', 'visit_count': 1, 'typed_count': 0, 'last_visit_time': '2021-10-09 13:33:03', 'hidden': 0, 'visit_time': '2021-10-09 13:33:03', 'from_visit': 29, 'visit_duration': 0, 'transition': 1610612736, 'source': None}, '30': {'id': 22, 'url': 'https://mail.google.com/mail/u/0/#inbox', 'title': 'aumnix.com Mail', 'visit_count': 5, 'typed_count': 0, 'last_visit_time': '2021-10-13 06:42:37', 'hidden': 0, 'visit_time': '2021-10-09 13:33:11', 'from_visit': 30, 'visit_duration': 0, 'transition': 1610612736, 'source': None}, '31': {'id': 25, 'url': 'https://mail.google.com/mail/u/0/#inbox/FMfcgzGlkFzcXfjkFjldstgLMLnlVsWP', 'title': 'Planned automatic PayPal payment in 10 days - sandeep.mishra@aumnix.com - aumnix.com Mail', 'visit_count': 1, 'typed_count': 0, 'last_visit_time': '2021-10-09 13:33:21', 'hidden': 0, 'visit_time': '2021-10-09 13:33:21', 'from_visit': 31, 'visit_duration': 0, 'transition': 1610612736, 'source': None}, '32': {'id': 22, 'url': 'https://mail.google.com/mail/u/0/#inbox', 'title': 'aumnix.com Mail', 'visit_count': 5, 'typed_count': 0, 'last_visit_time': '2021-10-13 06:42:37', 'hidden': 0, 'visit_time': '2021-10-09 13:33:48', 'from_visit': 32, 'visit_duration': 52830868412, 'transition': 1610612736, 'source': None}, '33': {'id': 26, 'url': 'https://drive.google.com/?ogsrc=32&tab=mo&authuser=0', 'title': 'Google Drive', 'visit_count': 1, 'typed_count': 0, 'last_visit_time': '2021-10-09 14:33:11', 'hidden': 0, 'visit_time': '2021-10-09 14:33:11', 'from_visit': 0, 'visit_duration': 0, 'transition': 268435456, 'source': None}, '34': {'id': 27, 'url': 'https://drive.google.com/drive/?ogsrc=32&tab=mo', 'title': 'Google Drive', 'visit_count': 2, 'typed_count': 0, 'last_visit_time': '2021-10-09 14:33:12', 'hidden': 0, 'visit_time': '2021-10-09 14:33:11', 'from_visit': 34, 'visit_duration': 0, 'transition': 2684354560, 'source': None}, '35': {'id': 27, 'url': 'https://drive.google.com/drive/?ogsrc=32&tab=mo', 'title': 'Google Drive', 'visit_count': 2, 'typed_count': 0, 'last_visit_time': '2021-10-09 14:33:12', 'hidden': 0, 'visit_time': '2021-10-09 14:33:12', 'from_visit': 0, 'visit_duration': 0, 'transition': 805306368, 'source': None}, '36': {'id': 28, 'url': 'https://drive.google.com/drive/', 'title': 'Google Drive', 'visit_count': 1, 'typed_count': 0, 'last_visit_time': '2021-10-09 14:33:12', 'hidden': 0, 'visit_time': '2021-10-09 14:33:12', 'from_visit': 0, 'visit_duration': 0, 'transition': 805306368, 'source': None}, '37': {'id': 29, 'url': 'https://drive.google.com/drive/my-drive', 'title': 'My Drive - Google Drive', 'visit_count': 1, 'typed_count': 0, 'last_visit_time': '2021-10-09 14:33:12', 'hidden': 0, 'visit_time': '2021-10-09 14:33:12', 'from_visit': 0, 'visit_duration': 49266700424, 'transition': 805306368, 'source': None}, '38': {'id': 30, 'url': 'https://admin.google.com/u/0/ac/users', 'title': 'Sign in - Google Accounts', 'visit_count': 1, 'typed_count': 0, 'last_visit_time': '2021-10-09 14:34:17', 'hidden': 0, 'visit_time': '2021-10-09 14:34:17', 'from_visit': 17, 'visit_duration': 0, 'transition': 1073741824, 'source': None}, '39': {'id': 31, 'url': 'https://accounts.google.com/ServiceLogin?continue=https://admin.google.com/ac/users&authuser=0&passive=3600&osid=1', 'title': 'Sign in - Google Accounts', 'visit_count': 2, 'typed_count': 0, 'last_visit_time': '2021-10-09 14:34:18', 'hidden': 0, 'visit_time': '2021-10-09 14:34:17', 'from_visit': 39, 'visit_duration': 0, 'transition': 2147483648, 'source': None}, '40': {'id': 31, 'url': 'https://accounts.google.com/ServiceLogin?continue=https://admin.google.com/ac/users&authuser=0&passive=3600&osid=1', 'title': 'Sign in - Google Accounts', 'visit_count': 2, 'typed_count': 0, 'last_visit_time': '2021-10-09 14:34:18', 'hidden': 0, 'visit_time': '2021-10-09 14:34:18', 'from_visit': 40, 'visit_duration': 0, 'transition': 1073741824, 'source': None}, '41': {'id': 32, 'url': 'https://accounts.google.com/ServiceLogin/webreauth?continue=https%3A%2F%2Fadmin.google.com%2Fac%2Fusers&authuser=0&passive=3600&osid=1&flowName=GlifWebSignIn&flowEntry=ServiceLogin', 'title': 'Sign in - Google Accounts', 'visit_count': 1, 'typed_count': 0, 'last_visit_time': '2021-10-09 14:34:18', 'hidden': 0, 'visit_time': '2021-10-09 14:34:18', 'from_visit': 41, 'visit_duration': 0, 'transition': 1610612736, 'source': None}, '42': {'id': 33, 'url': 'https://accounts.google.com/signin/v2/challenge/pwd?continue=https%3A%2F%2Fadmin.google.com%2Fac%2Fusers&authuser=0&passive=3600&osid=1&flowName=GlifWebSignIn&flowEntry=ServiceLogin&cid=1&navigationDirection=forward&TL=AM3QAYY6ddxgsuraCOgD30kZyirJvW363ISDRt13S3mhAlxb14Z4tW9TZrTI3W0W', 'title': 'Sign in - Google Accounts', 'visit_count': 1, 'typed_count': 0, 'last_visit_time': '2021-10-09 14:34:23', 'hidden': 0, 'visit_time': '2021-10-09 14:34:23', 'from_visit': 42, 'visit_duration': 0, 'transition': 1610612736, 'source': None}, '43': {'id': 34, 'url': 'https://accounts.google.com/CheckCookie?continue=https%3A%2F%2Fadmin.google.com%2Fac%2Fusers&hl=en&checkedDomains=youtube&checkConnection=youtube%3A244%3A0&pstMsg=1&osid=1&ifkv=AU9NCcwrCmz7W42vaRJt8APxwUY3qvONhYoUEHJE6i_CTBKfYdSRJ8mNmyI2ifr9U_9KVAVBL6HhOg&chtml=LoginDoneHtml&gidl=EgIIAA', 'title': 'User List - Admin Console', 'visit_count': 1, 'typed_count': 0, 'last_visit_time': '2021-10-09 14:34:34', 'hidden': 0, 'visit_time': '2021-10-09 14:34:34', 'from_visit': 43, 'visit_duration': 0, 'transition': 1073741824, 'source': None}, '44': {'id': 35, 'url': 'https://admin.google.com/accounts/SetOSID?authuser=0&continue=https%3A%2F%2Faccounts.youtube.com%2Faccounts%2FSetSID%3Fssdc%3D1%26sidt%3DALWU2csuO1Sn4Pewnwy0ofiIAJgXuTDzZidlMgtuxVjKjdHKP%252B%252BAQOkDrhartzmTdqvMwoFQXU6XjWtiJamdY639Mb4ZAtekaOeNl%252BmmDllNkDxT5YCpmb%252F%252FTJUQGA%252BxkhkqDH%252FL9rRL9b3l2uSk1OhcR5G4%252F%252FfICKruDSO%252BJMqrN9NV2DlFDe0S2uzjNvREAb17LD37j9V5vZ2TlBRS0WK%252BvqiOhPPvim6EAMTAYAWFg3B0fvllwoqQn3jOSNm2m2yrnBbLUDArlEOxqNXcegH%252B6bCV3jxCYJSIeGQBfR232KV5vlGbWhGGGLrj8HaXBSWGlac9Wd%252BGE5NYpuOtzutGYGytU%252BbvKh6k1TJ0u7wM84mlyHJAvab87b4z5MbW93k6lGxJsXYExYQ3UTP2smGlmQSKgU%252FalhFx%252FComUwaMVP7MTDxGh9uo9ZvugMO3VvDUy4aTtftP%26continue%3Dhttps%253A%252F%252Fadmin.google.com%252Fac%252Fusers%26tcc%3D1%26dbus%3DIN&osidt=ALWU2cubVz4hdgBukkxXO7sQpJbWkt3iMnysDgFz2VXWtAwwa1up0FLJol9Ljp2peKgLGDGFsZtDrQRwieJdqzvhdA3xtus7Z9ltRdC31aJnPrFz0H7wUND5VklQCpiWMavIYaVmmu34hglu-vcPZQ7WzTfS-MG1rjLgI2sJe9f90N-KZIQRP9AFiWDLBgHsOIo3oWPVtEmYTS1xq8uwi6WSYbWtH_biuQ&tcc=1&ifkv=AU9NCczXqCbGy5Wts0GE9aZ9T0Mt5GHktzvYw1OJaYoy0nFGeWffRuNTpllzHEsjYpWfle868mGtOw', 'title': 'User List - Admin Console', 'visit_count': 1, 'typed_count': 0, 'last_visit_time': '2021-10-09 14:34:34', 'hidden': 0, 'visit_time': '2021-10-09 14:34:34', 'from_visit': 44, 'visit_duration': 0, 'transition': 2147483648, 'source': None}, '45': {'id': 36, 'url': 'https://accounts.youtube.com/accounts/SetSID?ssdc=1&sidt=ALWU2csuO1Sn4Pewnwy0ofiIAJgXuTDzZidlMgtuxVjKjdHKP%2B%2BAQOkDrhartzmTdqvMwoFQXU6XjWtiJamdY639Mb4ZAtekaOeNl%2BmmDllNkDxT5YCpmb//TJUQGA%2BxkhkqDH/L9rRL9b3l2uSk1OhcR5G4//fICKruDSO%2BJMqrN9NV2DlFDe0S2uzjNvREAb17LD37j9V5vZ2TlBRS0WK%2BvqiOhPPvim6EAMTAYAWFg3B0fvllwoqQn3jOSNm2m2yrnBbLUDArlEOxqNXcegH%2B6bCV3jxCYJSIeGQBfR232KV5vlGbWhGGGLrj8HaXBSWGlac9Wd%2BGE5NYpuOtzutGYGytU%2BbvKh6k1TJ0u7wM84mlyHJAvab87b4z5MbW93k6lGxJsXYExYQ3UTP2smGlmQSKgU/alhFx/ComUwaMVP7MTDxGh9uo9ZvugMO3VvDUy4aTtftP&continue=https://admin.google.com/ac/users&tcc=1&dbus=IN&ifkv=AU9NCcwe5mtX5qSukKTJYyZkaTP2NEnrJ8-2oqCBY1j9ZTruMpUuwpaKJVmAThwaicvBP4Z1JMgQ6Q', 'title': 'User List - Admin Console', 'visit_count': 1, 'typed_count': 0, 'last_visit_time': '2021-10-09 14:34:34', 'hidden': 0, 'visit_time': '2021-10-09 14:34:34', 'from_visit': 45, 'visit_duration': 0, 'transition': 2147483648, 'source': None}, '46': {'id': 37, 'url': 'https://accounts.google.co.in/accounts/SetSID?ssdc=1&sidt=ALWU2ctytKLTiBsEL2Vz2yMqbt7tR8al9ZDTMKpSQIJQXub3%2BDHMURxiz%2Bj1MsLScUEZHuseeVjrKocrz9yK4byYb9t0PzRn2Pd6Xe5VGPvt7RH6eMFT7CWhhpxtmxr%2BgZgfnueHos6klLH7m7n7f0%2BcJmDILbGpD5S/Tnq/A5IFXxWDtQBjFXq6IeFfW739lEe0zL3Y0F7/OpGW8ExPMaDv4BmqGLDl41ZU7qGZahJmJ7CMUJAYqp/QZ6uv7CybngE154/QUZJ6la7MoXwGedDVvYop8Yw8%2BVSCxv%2BtHqkpS3wT/4lY7a9UoW3/e/6wE16kGmm3kIAuh9a8HLDcu9rD57IFZGwtonqrklME%2B/T7sS4LoFg83m3Lys%2B5fFSJCA80KpskK6qITja9xHWDAAPKi/gRjuMaMjtKRztrUUHBkYvIn08lf/e8bFqG9FDEiNtQLQ8xbYWH&continue=https://admin.google.com/ac/users&tcc=1&ifkv=AU9NCcy5XzWiG6qJZRVuiigxlxyeWkVA_Wpa84PiTexxX9C945j2iPgBakyc3N6jTh5MFS9LanP5ww', 'title': 'User List - Admin Console', 'visit_count': 1, 'typed_count': 0, 'last_visit_time': '2021-10-09 14:34:34', 'hidden': 0, 'visit_time': '2021-10-09 14:34:34', 'from_visit': 46, 'visit_duration': 0, 'transition': 2147483648, 'source': None}, '47': {'id': 38, 'url': 'https://admin.google.com/ac/users', 'title': 'User List - Admin Console', 'visit_count': 2, 'typed_count': 0, 'last_visit_time': '2021-10-09 14:34:35', 'hidden': 0, 'visit_time': '2021-10-09 14:34:34', 'from_visit': 47, 'visit_duration': 0, 'transition': 2147483648, 'source': None}, '48': {'id': 38, 'url': 'https://admin.google.com/ac/users', 'title': 'User List - Admin Console', 'visit_count': 2, 'typed_count': 0, 'last_visit_time': '2021-10-09 14:34:35', 'hidden': 0, 'visit_time': '2021-10-09 14:34:35', 'from_visit': 48, 'visit_duration': 0, 'transition': 1610612736, 'source': None}, '49': {'id': 39, 'url': 'https://admin.google.com/ac/users/2koq6563majjg4', 'title': 'binayak Chatterjee - Admin Console', 'visit_count': 1, 'typed_count': 0, 'last_visit_time': '2021-10-09 14:34:44', 'hidden': 0, 'visit_time': '2021-10-09 14:34:44', 'from_visit': 49, 'visit_duration': 0, 'transition': 1610612736, 'source': None}, '50': {'id': 40, 'url': 'https://admin.google.com/ac/dm', 'title': 'Device Management - Admin Console', 'visit_count': 2, 'typed_count': 0, 'last_visit_time': '2021-10-09 14:35:07', 'hidden': 0, 'visit_time': '2021-10-09 14:35:06', 'from_visit': 50, 'visit_duration': 0, 'transition': 1073741824, 'source': None}, '51': {'id': 40, 'url': 'https://admin.google.com/ac/dm', 'title': 'Device Management - Admin Console', 'visit_count': 2, 'typed_count': 0, 'last_visit_time': '2021-10-09 14:35:07', 'hidden': 0, 'visit_time': '2021-10-09 14:35:07', 'from_visit': 51, 'visit_duration': 0, 'transition': 1610612736, 'source': None}, '52': {'id': 41, 'url': 'https://admin.google.com/ac/chrome/', 'title': 'Chrome Management - Admin Console', 'visit_count': 2, 'typed_count': 0, 'last_visit_time': '2021-10-09 14:35:25', 'hidden': 0, 'visit_time': '2021-10-09 14:35:23', 'from_visit': 52, 'visit_duration': 0, 'transition': 1073741824, 'source': None}, '53': {'id': 41, 'url': 'https://admin.google.com/ac/chrome/', 'title': 'Chrome Management - Admin Console', 'visit_count': 2, 'typed_count': 0, 'last_visit_time': '2021-10-09 14:35:25', 'hidden': 0, 'visit_time': '2021-10-09 14:35:25', 'from_visit': 53, 'visit_duration': 0, 'transition': 1610612736, 'source': None}, '54': {'id': 42, 'url': 'https://admin.google.com/ac/chrome/browsers/', 'title': 'Chrome Management - Admin Console', 'visit_count': 1, 'typed_count': 0, 'last_visit_time': '2021-10-09 14:35:28', 'hidden': 0, 'visit_time': '2021-10-09 14:35:28', 'from_visit': 54, 'visit_duration': 0, 'transition': 1610612736, 'source': None}, '55': {'id': 43, 'url': 'https://admin.google.com/ac/chrome/browsers/?sf=17&so=2', 'title': 'Managed Browsers - Admin Console', 'visit_count': 1, 'typed_count': 0, 'last_visit_time': '2021-10-09 14:35:28', 'hidden': 0, 'visit_time': '2021-10-09 14:35:28', 'from_visit': 55, 'visit_duration': 49130474559, 'transition': 1610612736, 'source': None}, '56': {'id': 22, 'url': 'https://mail.google.com/mail/u/0/#inbox', 'title': 'aumnix.com Mail', 'visit_count': 5, 'typed_count': 0, 'last_visit_time': '2021-10-13 06:42:37', 'hidden': 0, 'visit_time': '2021-10-13 06:42:35', 'from_visit': 0, 'visit_duration': 0, 'transition': 805306376, 'source': None}, '57': {'id': 22, 'url': 'https://mail.google.com/mail/u/0/#inbox', 'title': 'aumnix.com Mail', 'visit_count': 5, 'typed_count': 0, 'last_visit_time': '2021-10-13 06:42:37', 'hidden': 0, 'visit_time': '2021-10-13 06:42:37', 'from_visit': 57, 'visit_duration': 660652, 'transition': 1610612736, 'source': None}}, 'login': {'0': {'username': '', 'element': '', 'origin': 'https://www.3dsecure1.icicibank.com/', 'action': '', 'created_on': '2021-10-09 13:31:26', 'last_used': '1601-01-01 00:00:00'}}, 'downloads': {}}}\n"
     ]
    }
   ],
   "source": [
    "print(collection_list[0])"
   ]
  },
  {
   "cell_type": "code",
   "execution_count": 62,
   "metadata": {},
   "outputs": [],
   "source": [
    "df0 = (pd.DataFrame.from_dict(collection_list[0]['data']['history'])).T"
   ]
  },
  {
   "cell_type": "code",
   "execution_count": 65,
   "metadata": {},
   "outputs": [],
   "source": [
    "df1 = (pd.DataFrame.from_dict(collection_list[1]['data']['history'])).T"
   ]
  },
  {
   "cell_type": "code",
   "execution_count": 69,
   "metadata": {},
   "outputs": [
    {
     "data": {
      "text/html": [
       "<div>\n",
       "<style scoped>\n",
       "    .dataframe tbody tr th:only-of-type {\n",
       "        vertical-align: middle;\n",
       "    }\n",
       "\n",
       "    .dataframe tbody tr th {\n",
       "        vertical-align: top;\n",
       "    }\n",
       "\n",
       "    .dataframe thead th {\n",
       "        text-align: right;\n",
       "    }\n",
       "</style>\n",
       "<table border=\"1\" class=\"dataframe\">\n",
       "  <thead>\n",
       "    <tr style=\"text-align: right;\">\n",
       "      <th></th>\n",
       "      <th>id</th>\n",
       "      <th>url</th>\n",
       "      <th>title</th>\n",
       "      <th>visit_count</th>\n",
       "      <th>typed_count</th>\n",
       "      <th>last_visit_time</th>\n",
       "      <th>hidden</th>\n",
       "      <th>visit_time</th>\n",
       "      <th>from_visit</th>\n",
       "      <th>visit_duration</th>\n",
       "      <th>transition</th>\n",
       "      <th>source</th>\n",
       "    </tr>\n",
       "  </thead>\n",
       "  <tbody>\n",
       "    <tr>\n",
       "      <th>48</th>\n",
       "      <td>38</td>\n",
       "      <td>https://admin.google.com/ac/users</td>\n",
       "      <td>User List - Admin Console</td>\n",
       "      <td>2</td>\n",
       "      <td>0</td>\n",
       "      <td>2021-10-09 14:34:35</td>\n",
       "      <td>0</td>\n",
       "      <td>2021-10-09 14:34:35</td>\n",
       "      <td>48</td>\n",
       "      <td>0</td>\n",
       "      <td>1610612736</td>\n",
       "      <td>None</td>\n",
       "    </tr>\n",
       "    <tr>\n",
       "      <th>49</th>\n",
       "      <td>39</td>\n",
       "      <td>https://admin.google.com/ac/users/2koq6563majjg4</td>\n",
       "      <td>binayak Chatterjee - Admin Console</td>\n",
       "      <td>1</td>\n",
       "      <td>0</td>\n",
       "      <td>2021-10-09 14:34:44</td>\n",
       "      <td>0</td>\n",
       "      <td>2021-10-09 14:34:44</td>\n",
       "      <td>49</td>\n",
       "      <td>0</td>\n",
       "      <td>1610612736</td>\n",
       "      <td>None</td>\n",
       "    </tr>\n",
       "    <tr>\n",
       "      <th>50</th>\n",
       "      <td>40</td>\n",
       "      <td>https://admin.google.com/ac/dm</td>\n",
       "      <td>Device Management - Admin Console</td>\n",
       "      <td>2</td>\n",
       "      <td>0</td>\n",
       "      <td>2021-10-09 14:35:07</td>\n",
       "      <td>0</td>\n",
       "      <td>2021-10-09 14:35:06</td>\n",
       "      <td>50</td>\n",
       "      <td>0</td>\n",
       "      <td>1073741824</td>\n",
       "      <td>None</td>\n",
       "    </tr>\n",
       "    <tr>\n",
       "      <th>51</th>\n",
       "      <td>40</td>\n",
       "      <td>https://admin.google.com/ac/dm</td>\n",
       "      <td>Device Management - Admin Console</td>\n",
       "      <td>2</td>\n",
       "      <td>0</td>\n",
       "      <td>2021-10-09 14:35:07</td>\n",
       "      <td>0</td>\n",
       "      <td>2021-10-09 14:35:07</td>\n",
       "      <td>51</td>\n",
       "      <td>0</td>\n",
       "      <td>1610612736</td>\n",
       "      <td>None</td>\n",
       "    </tr>\n",
       "    <tr>\n",
       "      <th>52</th>\n",
       "      <td>41</td>\n",
       "      <td>https://admin.google.com/ac/chrome/</td>\n",
       "      <td>Chrome Management - Admin Console</td>\n",
       "      <td>2</td>\n",
       "      <td>0</td>\n",
       "      <td>2021-10-09 14:35:25</td>\n",
       "      <td>0</td>\n",
       "      <td>2021-10-09 14:35:23</td>\n",
       "      <td>52</td>\n",
       "      <td>0</td>\n",
       "      <td>1073741824</td>\n",
       "      <td>None</td>\n",
       "    </tr>\n",
       "    <tr>\n",
       "      <th>53</th>\n",
       "      <td>41</td>\n",
       "      <td>https://admin.google.com/ac/chrome/</td>\n",
       "      <td>Chrome Management - Admin Console</td>\n",
       "      <td>2</td>\n",
       "      <td>0</td>\n",
       "      <td>2021-10-09 14:35:25</td>\n",
       "      <td>0</td>\n",
       "      <td>2021-10-09 14:35:25</td>\n",
       "      <td>53</td>\n",
       "      <td>0</td>\n",
       "      <td>1610612736</td>\n",
       "      <td>None</td>\n",
       "    </tr>\n",
       "    <tr>\n",
       "      <th>54</th>\n",
       "      <td>42</td>\n",
       "      <td>https://admin.google.com/ac/chrome/browsers/</td>\n",
       "      <td>Chrome Management - Admin Console</td>\n",
       "      <td>1</td>\n",
       "      <td>0</td>\n",
       "      <td>2021-10-09 14:35:28</td>\n",
       "      <td>0</td>\n",
       "      <td>2021-10-09 14:35:28</td>\n",
       "      <td>54</td>\n",
       "      <td>0</td>\n",
       "      <td>1610612736</td>\n",
       "      <td>None</td>\n",
       "    </tr>\n",
       "    <tr>\n",
       "      <th>55</th>\n",
       "      <td>43</td>\n",
       "      <td>https://admin.google.com/ac/chrome/browsers/?s...</td>\n",
       "      <td>Managed Browsers - Admin Console</td>\n",
       "      <td>1</td>\n",
       "      <td>0</td>\n",
       "      <td>2021-10-09 14:35:28</td>\n",
       "      <td>0</td>\n",
       "      <td>2021-10-09 14:35:28</td>\n",
       "      <td>55</td>\n",
       "      <td>49130474559</td>\n",
       "      <td>1610612736</td>\n",
       "      <td>None</td>\n",
       "    </tr>\n",
       "    <tr>\n",
       "      <th>56</th>\n",
       "      <td>22</td>\n",
       "      <td>https://mail.google.com/mail/u/0/#inbox</td>\n",
       "      <td>aumnix.com Mail</td>\n",
       "      <td>5</td>\n",
       "      <td>0</td>\n",
       "      <td>2021-10-13 06:42:37</td>\n",
       "      <td>0</td>\n",
       "      <td>2021-10-13 06:42:35</td>\n",
       "      <td>0</td>\n",
       "      <td>0</td>\n",
       "      <td>805306376</td>\n",
       "      <td>None</td>\n",
       "    </tr>\n",
       "    <tr>\n",
       "      <th>57</th>\n",
       "      <td>22</td>\n",
       "      <td>https://mail.google.com/mail/u/0/#inbox</td>\n",
       "      <td>aumnix.com Mail</td>\n",
       "      <td>5</td>\n",
       "      <td>0</td>\n",
       "      <td>2021-10-13 06:42:37</td>\n",
       "      <td>0</td>\n",
       "      <td>2021-10-13 06:42:37</td>\n",
       "      <td>57</td>\n",
       "      <td>660652</td>\n",
       "      <td>1610612736</td>\n",
       "      <td>None</td>\n",
       "    </tr>\n",
       "  </tbody>\n",
       "</table>\n",
       "</div>"
      ],
      "text/plain": [
       "    id                                                url  \\\n",
       "48  38                  https://admin.google.com/ac/users   \n",
       "49  39   https://admin.google.com/ac/users/2koq6563majjg4   \n",
       "50  40                     https://admin.google.com/ac/dm   \n",
       "51  40                     https://admin.google.com/ac/dm   \n",
       "52  41                https://admin.google.com/ac/chrome/   \n",
       "53  41                https://admin.google.com/ac/chrome/   \n",
       "54  42       https://admin.google.com/ac/chrome/browsers/   \n",
       "55  43  https://admin.google.com/ac/chrome/browsers/?s...   \n",
       "56  22            https://mail.google.com/mail/u/0/#inbox   \n",
       "57  22            https://mail.google.com/mail/u/0/#inbox   \n",
       "\n",
       "                                 title visit_count typed_count  \\\n",
       "48           User List - Admin Console           2           0   \n",
       "49  binayak Chatterjee - Admin Console           1           0   \n",
       "50   Device Management - Admin Console           2           0   \n",
       "51   Device Management - Admin Console           2           0   \n",
       "52   Chrome Management - Admin Console           2           0   \n",
       "53   Chrome Management - Admin Console           2           0   \n",
       "54   Chrome Management - Admin Console           1           0   \n",
       "55    Managed Browsers - Admin Console           1           0   \n",
       "56                     aumnix.com Mail           5           0   \n",
       "57                     aumnix.com Mail           5           0   \n",
       "\n",
       "        last_visit_time hidden           visit_time from_visit visit_duration  \\\n",
       "48  2021-10-09 14:34:35      0  2021-10-09 14:34:35         48              0   \n",
       "49  2021-10-09 14:34:44      0  2021-10-09 14:34:44         49              0   \n",
       "50  2021-10-09 14:35:07      0  2021-10-09 14:35:06         50              0   \n",
       "51  2021-10-09 14:35:07      0  2021-10-09 14:35:07         51              0   \n",
       "52  2021-10-09 14:35:25      0  2021-10-09 14:35:23         52              0   \n",
       "53  2021-10-09 14:35:25      0  2021-10-09 14:35:25         53              0   \n",
       "54  2021-10-09 14:35:28      0  2021-10-09 14:35:28         54              0   \n",
       "55  2021-10-09 14:35:28      0  2021-10-09 14:35:28         55    49130474559   \n",
       "56  2021-10-13 06:42:37      0  2021-10-13 06:42:35          0              0   \n",
       "57  2021-10-13 06:42:37      0  2021-10-13 06:42:37         57         660652   \n",
       "\n",
       "    transition source  \n",
       "48  1610612736   None  \n",
       "49  1610612736   None  \n",
       "50  1073741824   None  \n",
       "51  1610612736   None  \n",
       "52  1073741824   None  \n",
       "53  1610612736   None  \n",
       "54  1610612736   None  \n",
       "55  1610612736   None  \n",
       "56   805306376   None  \n",
       "57  1610612736   None  "
      ]
     },
     "execution_count": 69,
     "metadata": {},
     "output_type": "execute_result"
    }
   ],
   "source": [
    "df0.tail(10)"
   ]
  },
  {
   "cell_type": "code",
   "execution_count": 70,
   "metadata": {},
   "outputs": [],
   "source": [
    "# import all relevant data\n",
    "# 1- import from browser history file\n",
    "\n",
    "\n"
   ]
  },
  {
   "cell_type": "code",
   "execution_count": 71,
   "metadata": {},
   "outputs": [],
   "source": [
    "# 2- import from google export file\n"
   ]
  },
  {
   "cell_type": "code",
   "execution_count": null,
   "metadata": {},
   "outputs": [],
   "source": []
  }
 ],
 "metadata": {
  "kernelspec": {
   "display_name": "vconSanAI",
   "language": "python",
   "name": "vconsanai"
  },
  "language_info": {
   "codemirror_mode": {
    "name": "ipython",
    "version": 3
   },
   "file_extension": ".py",
   "mimetype": "text/x-python",
   "name": "python",
   "nbconvert_exporter": "python",
   "pygments_lexer": "ipython3",
   "version": "3.8.8"
  }
 },
 "nbformat": 4,
 "nbformat_minor": 2
}
