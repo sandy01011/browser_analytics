{
 "cells": [
  {
   "cell_type": "markdown",
   "metadata": {},
   "source": [
    "# Bran Data Analysis \n",
    "## level 0\n"
   ]
  },
  {
   "cell_type": "markdown",
   "metadata": {},
   "source": []
  }
 ],
 "metadata": {
  "kernelspec": {
   "display_name": "Python 3.10.6 ('aIoT')",
   "language": "python",
   "name": "python3"
  },
  "language_info": {
   "name": "python",
   "version": "3.10.6"
  },
  "orig_nbformat": 4,
  "vscode": {
   "interpreter": {
    "hash": "0a1e20bfa4a8bb16246a7fa6ece8e3088adc1868d846b0403f8945fbabad56c6"
   }
  }
 },
 "nbformat": 4,
 "nbformat_minor": 2
}
