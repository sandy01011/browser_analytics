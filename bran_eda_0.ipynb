{
 "cells": [
  {
   "cell_type": "markdown",
   "metadata": {},
   "source": [
    "# Bran Data Analysis \n",
    "## level 0\n"
   ]
  },
  {
   "cell_type": "code",
   "execution_count": 2,
   "metadata": {},
   "outputs": [],
   "source": [
    "import pymongo\n",
    "from bran_meta import read_env\n",
    "import json"
   ]
  },
  {
   "cell_type": "code",
   "execution_count": 3,
   "metadata": {},
   "outputs": [
    {
     "name": "stdout",
     "output_type": "stream",
     "text": [
      "loading metadata\n"
     ]
    }
   ],
   "source": [
    "metadata = json.loads(read_env())\n",
    "db_col = metadata['db']['collectiondb']\n",
    "db_collection = metadata['db']['collection']"
   ]
  },
  {
   "cell_type": "code",
   "execution_count": 4,
   "metadata": {},
   "outputs": [],
   "source": [
    "username = metadata['db']['dbuser']\n",
    "password = metadata['db']['dbpassword']\n",
    "URI = metadata['db']['uri']\n",
    "client = pymongo.MongoClient(URI)\n",
    "db = client[db_col]\n",
    "db.authenticate(username, password)\n",
    "collection = db[db_collection]\n",
    "# parsing = db[db_col_par]\n",
    "collection_list_0 = collection.find({'layer':0})\n",
    "collection_list = [data for data in collection_list_0]"
   ]
  },
  {
   "cell_type": "code",
   "execution_count": 7,
   "metadata": {},
   "outputs": [
    {
     "data": {
      "text/plain": [
       "(3, 6, 6, 6)"
      ]
     },
     "execution_count": 7,
     "metadata": {},
     "output_type": "execute_result"
    }
   ],
   "source": [
    "len(collection_list), len(collection_list[0]), len(collection_list[1]),len(collection_list[2])"
   ]
  },
  {
   "cell_type": "code",
   "execution_count": 9,
   "metadata": {},
   "outputs": [
    {
     "data": {
      "text/plain": [
       "(dict_keys, dict, dict)"
      ]
     },
     "execution_count": 9,
     "metadata": {},
     "output_type": "execute_result"
    }
   ],
   "source": [
    "type(collection_list[0]), type(collection_list[1]), type(collection_list[2])"
   ]
  },
  {
   "cell_type": "code",
   "execution_count": 12,
   "metadata": {},
   "outputs": [
    {
     "data": {
      "text/plain": [
       "dict_keys(['_id', 'uid', 'layer', 'engine', 'load_time', 'data'])"
      ]
     },
     "execution_count": 12,
     "metadata": {},
     "output_type": "execute_result"
    }
   ],
   "source": [
    "collection_list[2].keys()"
   ]
  },
  {
   "cell_type": "code",
   "execution_count": 17,
   "metadata": {},
   "outputs": [
    {
     "data": {
      "text/plain": [
       "dict_keys(['search', 'history'])"
      ]
     },
     "execution_count": 17,
     "metadata": {},
     "output_type": "execute_result"
    }
   ],
   "source": [
    "collection_list[1]['data'].keys()"
   ]
  },
  {
   "cell_type": "code",
   "execution_count": 41,
   "metadata": {},
   "outputs": [],
   "source": [
    "search_data = collection_list[0]['data']['search']\n",
    "history_data = collection_list[0]['data']['history']"
   ]
  },
  {
   "cell_type": "code",
   "execution_count": 36,
   "metadata": {},
   "outputs": [
    {
     "data": {
      "text/plain": [
       "(dict, dict)"
      ]
     },
     "execution_count": 36,
     "metadata": {},
     "output_type": "execute_result"
    }
   ],
   "source": [
    "type(search_data), type(history_data)"
   ]
  },
  {
   "cell_type": "code",
   "execution_count": 42,
   "metadata": {},
   "outputs": [
    {
     "data": {
      "text/plain": [
       "(280, 9784)"
      ]
     },
     "execution_count": 42,
     "metadata": {},
     "output_type": "execute_result"
    }
   ],
   "source": [
    "len(search_data.keys()), len(history_data.keys())"
   ]
  },
  {
   "cell_type": "code",
   "execution_count": 45,
   "metadata": {},
   "outputs": [
    {
     "data": {
      "text/plain": [
       "({'search_keyword_id': 2,\n",
       "  'search_url_id': 7421,\n",
       "  'search_term': 'convert ImageBitMap to image in python',\n",
       "  'search_nterm': 'convert imagebitmap to image in python'},\n",
       " {'id': 43,\n",
       "  'url': 'https://www.netflix.com/browse',\n",
       "  'title': 'Home - Netflix',\n",
       "  'visit_count': 36,\n",
       "  'typed_count': 11,\n",
       "  'last_visit_time': '2022-09-05 18:03:37',\n",
       "  'hidden': 0,\n",
       "  'visit_time': '2022-08-16 19:47:17',\n",
       "  'from_visit': 0,\n",
       "  'visit_duration': 0,\n",
       "  'transition': 805306368,\n",
       "  'source': 0.0})"
      ]
     },
     "execution_count": 45,
     "metadata": {},
     "output_type": "execute_result"
    }
   ],
   "source": [
    "search_data['1'], history_data['1']"
   ]
  },
  {
   "cell_type": "code",
   "execution_count": null,
   "metadata": {},
   "outputs": [],
   "source": []
  },
  {
   "cell_type": "code",
   "execution_count": null,
   "metadata": {},
   "outputs": [],
   "source": []
  }
 ],
 "metadata": {
  "kernelspec": {
   "display_name": "Python 3.10.4 ('drishti_bhav_1')",
   "language": "python",
   "name": "python3"
  },
  "language_info": {
   "codemirror_mode": {
    "name": "ipython",
    "version": 3
   },
   "file_extension": ".py",
   "mimetype": "text/x-python",
   "name": "python",
   "nbconvert_exporter": "python",
   "pygments_lexer": "ipython3",
   "version": "3.10.4"
  },
  "orig_nbformat": 4,
  "vscode": {
   "interpreter": {
    "hash": "40a19694ad448357b57a8622ff7538d3d59ee73d598b6e2ea4637c394876686f"
   }
  }
 },
 "nbformat": 4,
 "nbformat_minor": 2
}
