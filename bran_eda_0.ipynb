{
 "cells": [
  {
   "cell_type": "markdown",
   "metadata": {},
   "source": [
    "# Bran Data Analysis \n",
    "## level 0\n"
   ]
  },
  {
   "cell_type": "code",
   "execution_count": 2,
   "metadata": {},
   "outputs": [],
   "source": [
    "import pymongo\n",
    "from bran_meta import read_env\n",
    "import json"
   ]
  },
  {
   "cell_type": "code",
   "execution_count": 3,
   "metadata": {},
   "outputs": [
    {
     "name": "stdout",
     "output_type": "stream",
     "text": [
      "loading metadata\n"
     ]
    }
   ],
   "source": [
    "metadata = json.loads(read_env())\n",
    "db_col = metadata['db']['collectiondb']\n",
    "db_collection = metadata['db']['collection']"
   ]
  },
  {
   "cell_type": "code",
   "execution_count": 4,
   "metadata": {},
   "outputs": [],
   "source": [
    "username = metadata['db']['dbuser']\n",
    "password = metadata['db']['dbpassword']\n",
    "URI = metadata['db']['uri']\n",
    "client = pymongo.MongoClient(URI)\n",
    "db = client[db_col]\n",
    "db.authenticate(username, password)\n",
    "collection = db[db_collection]\n",
    "# parsing = db[db_col_par]\n",
    "collection_list_0 = collection.find({'layer':0})\n",
    "collection_list = [data for data in collection_list_0]"
   ]
  },
  {
   "cell_type": "code",
   "execution_count": 7,
   "metadata": {},
   "outputs": [
    {
     "data": {
      "text/plain": [
       "(3, 6, 6, 6)"
      ]
     },
     "execution_count": 7,
     "metadata": {},
     "output_type": "execute_result"
    }
   ],
   "source": [
    "len(collection_list), len(collection_list[0]), len(collection_list[1]),len(collection_list[2])"
   ]
  },
  {
   "cell_type": "code",
   "execution_count": 9,
   "metadata": {},
   "outputs": [
    {
     "data": {
      "text/plain": [
       "(dict_keys, dict, dict)"
      ]
     },
     "execution_count": 9,
     "metadata": {},
     "output_type": "execute_result"
    }
   ],
   "source": [
    "type(collection_list[0].keys()), type(collection_list[1]), type(collection_list[2])"
   ]
  },
  {
   "cell_type": "code",
   "execution_count": 12,
   "metadata": {},
   "outputs": [
    {
     "data": {
      "text/plain": [
       "dict_keys(['_id', 'uid', 'layer', 'engine', 'load_time', 'data'])"
      ]
     },
     "execution_count": 12,
     "metadata": {},
     "output_type": "execute_result"
    }
   ],
   "source": [
    "collection_list[2].keys()"
   ]
  },
  {
   "cell_type": "code",
   "execution_count": null,
   "metadata": {},
   "outputs": [],
   "source": []
  }
 ],
 "metadata": {
  "kernelspec": {
   "display_name": "Python 3.10.4 ('drishti_bhav_1')",
   "language": "python",
   "name": "python3"
  },
  "language_info": {
   "codemirror_mode": {
    "name": "ipython",
    "version": 3
   },
   "file_extension": ".py",
   "mimetype": "text/x-python",
   "name": "python",
   "nbconvert_exporter": "python",
   "pygments_lexer": "ipython3",
   "version": "3.10.4"
  },
  "orig_nbformat": 4,
  "vscode": {
   "interpreter": {
    "hash": "40a19694ad448357b57a8622ff7538d3d59ee73d598b6e2ea4637c394876686f"
   }
  }
 },
 "nbformat": 4,
 "nbformat_minor": 2
}
