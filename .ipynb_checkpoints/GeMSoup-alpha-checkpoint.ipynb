{
 "cells": [
  {
   "cell_type": "code",
   "execution_count": 28,
   "metadata": {},
   "outputs": [],
   "source": [
    "# importing required libraries\n",
    "import requests\n",
    "from bs4 import BeautifulSoup as bs\n",
    "import re\n",
    "import pandas as pd"
   ]
  },
  {
   "cell_type": "code",
   "execution_count": 33,
   "metadata": {},
   "outputs": [],
   "source": [
    "def gemSoup(url):\n",
    "    try:\n",
    "        page = requests.get(url)\n",
    "    except Exception as exception:\n",
    "        print(exception)\n",
    "    page_status = page.status_code   # if page try fails then page is referenced before assignment correct it\n",
    "    if page_status == 200:\n",
    "        print(\"{} loaded successfully\".format(url))\n",
    "    else:\n",
    "        print(\"{} loading failed with status code {}\".format(url, page_status)) \n",
    "    encoding = page.encoding\n",
    "    headers = page.headers\n",
    "    # content = page.content # binary dump\n",
    "    # text = page.txt # textual dump\n",
    "    #print(encoding, headers)\n",
    "    soup = bs(page.content,'html.parser')\n",
    "    return soup"
   ]
  },
  {
   "cell_type": "code",
   "execution_count": 192,
   "metadata": {},
   "outputs": [
    {
     "name": "stdout",
     "output_type": "stream",
     "text": [
      "https://bidplus.gem.gov.in/bidresultlists loaded successfully\n"
     ]
    }
   ],
   "source": [
    "my_soup = gemSoup(\"https://bidplus.gem.gov.in/bidresultlists\")"
   ]
  },
  {
   "cell_type": "code",
   "execution_count": 193,
   "metadata": {},
   "outputs": [],
   "source": [
    "bid_list = my_soup.findAll('div', {'id':'pagi_content'})\n",
    "column_data = my_soup.findAll('div', {'class':'col-block'})"
   ]
  },
  {
   "cell_type": "code",
   "execution_count": 194,
   "metadata": {},
   "outputs": [
    {
     "name": "stdout",
     "output_type": "stream",
     "text": [
      "1\n",
      "30\n"
     ]
    }
   ],
   "source": [
    "print(len(bid_list))\n",
    "print(len(column_data))"
   ]
  },
  {
   "cell_type": "code",
   "execution_count": 213,
   "metadata": {},
   "outputs": [],
   "source": [
    "bid_dep_add = []\n",
    "bid_iqc = []\n",
    "bid_date = []"
   ]
  },
  {
   "cell_type": "code",
   "execution_count": 210,
   "metadata": {},
   "outputs": [
    {
     "name": "stdout",
     "output_type": "stream",
     "text": [
      "<div class=\"col-block\">\n",
      "<p><strong>Start Date: </strong><span>03-03-2022 06:00 PM</span></p>\n",
      "<p><strong>End Date: </strong><span>05-03-2022 06:00 PM</span></p>\n",
      "<div class=\"clearfix\"></div>\n",
      "</div>\n"
     ]
    }
   ],
   "source": [
    "print(column_data[2])"
   ]
  },
  {
   "cell_type": "code",
   "execution_count": 202,
   "metadata": {},
   "outputs": [
    {
     "name": "stdout",
     "output_type": "stream",
     "text": [
      "0\n",
      "3\n",
      "6\n",
      "9\n",
      "12\n",
      "15\n",
      "18\n",
      "21\n",
      "24\n",
      "27\n"
     ]
    }
   ],
   "source": [
    "iqc_start = 0 # Items, Quantity required, Corrigendum\n",
    "col_end = len(column_data)\n",
    "for index in range(iqc_start,col_end,3):\n",
    "#     print(index)\n",
    "    #print(column_data[index].text)\n",
    "    bid_iqc.append(column_data[index].text)"
   ]
  },
  {
   "cell_type": "code",
   "execution_count": 206,
   "metadata": {},
   "outputs": [
    {
     "name": "stdout",
     "output_type": "stream",
     "text": [
      "1\n",
      "4\n",
      "7\n",
      "10\n",
      "13\n",
      "16\n",
      "19\n",
      "22\n",
      "25\n",
      "28\n"
     ]
    }
   ],
   "source": [
    "add_start = 1 # Items, Quantity required, Corrigendum\n",
    "col_end = len(column_data)\n",
    "for index in range(add_start,col_end,3):\n",
    "#     print(index)\n",
    "    #print(column_data[index].text)\n",
    "    bid_dep_add.append(column_data[index].text)"
   ]
  },
  {
   "cell_type": "code",
   "execution_count": 214,
   "metadata": {},
   "outputs": [
    {
     "name": "stdout",
     "output_type": "stream",
     "text": [
      "2\n",
      "5\n",
      "8\n",
      "11\n",
      "14\n",
      "17\n",
      "20\n",
      "23\n",
      "26\n",
      "29\n"
     ]
    }
   ],
   "source": [
    "bid_date_start = 2 # Items, Quantity required, Corrigendum\n",
    "col_end = len(column_data)\n",
    "for index in range(bid_date_start,col_end,3):\n",
    "#     print(index)\n",
    "    #print(column_data[index].text)\n",
    "    bid_date.append(column_data[index].text)"
   ]
  },
  {
   "cell_type": "code",
   "execution_count": 215,
   "metadata": {},
   "outputs": [
    {
     "name": "stdout",
     "output_type": "stream",
     "text": [
      "['\\nStart Date: 03-03-2022 06:00 PM\\nEnd Date: 05-03-2022 06:00 PM\\n\\n', '\\nStart Date: 03-03-2022 05:55 PM\\nEnd Date: 05-03-2022 06:00 PM\\n\\n', '\\nStart Date: 03-03-2022 05:23 PM\\nEnd Date: 05-03-2022 06:00 PM\\n\\n', '\\nStart Date: 03-03-2022 05:47 PM\\nEnd Date: 05-03-2022 06:00 PM\\n\\n', '\\nStart Date: 03-03-2022 03:45 PM\\nEnd Date: 05-03-2022 06:00 PM\\n\\n', '\\nStart Date: 03-03-2022 03:46 PM\\nEnd Date: 05-03-2022 06:00 PM\\n\\n', '\\nStart Date: 03-03-2022 03:51 PM\\nEnd Date: 05-03-2022 06:00 PM\\n\\n', '\\nStart Date: 03-03-2022 05:39 PM\\nEnd Date: 05-03-2022 06:00 PM\\n\\n', '\\nStart Date: 03-03-2022 12:55 PM\\nEnd Date: 05-03-2022 06:00 PM\\n\\n', '\\nStart Date: 03-03-2022 12:00 PM\\nEnd Date: 05-03-2022 06:00 PM\\n\\n']\n"
     ]
    }
   ],
   "source": [
    "print(bid_date)"
   ]
  },
  {
   "cell_type": "code",
   "execution_count": 129,
   "metadata": {},
   "outputs": [
    {
     "name": "stdout",
     "output_type": "stream",
     "text": [
      " BID NO: GEM/2022/B/2004079\n",
      "Not Evaluated\n"
     ]
    }
   ],
   "source": [
    "for element in bid_list:\n",
    "    print(element.find('p', {'class':'bid_no'}).text)  # First bid number\n",
    "    print(element.find('span', {'class':'text-success'}).text) # Status\n",
    "#     print(element.find('strong').text)\n",
    "#     print(element)\n",
    "#     break"
   ]
  },
  {
   "cell_type": "code",
   "execution_count": 133,
   "metadata": {},
   "outputs": [
    {
     "name": "stdout",
     "output_type": "stream",
     "text": [
      "<div class=\"col-block\">\n",
      "<p><strong>Items: </strong><span>BOQ_1,BOQ_2,BOQ_3,BOQ_4,BOQ_5,BOQ_6,BOQ_7,BOQ_8,BOQ_9</span></p>\n",
      "<p><strong>Quantity Required: </strong><span>123</span></p>\n",
      "<p class=\"pull-left view_corrigendum\" data-bid=\"3209584\"><a href=\"#\" style=\"display:none; margin-left: 10px;\">View Corrigendum</a></p>\n",
      "<p><span></span></p>\n",
      "<div class=\"clearfix\"></div>\n",
      "</div>\n"
     ]
    }
   ],
   "source": [
    "for data in column_data:\n",
    "    print(data)\n",
    "    break"
   ]
  },
  {
   "cell_type": "code",
   "execution_count": 122,
   "metadata": {},
   "outputs": [],
   "source": [
    "for element in bid_list:\n",
    "    bid_numbers = element.findAll('p', {'class':'bid_no'})\n",
    "    bid_status = element.findAll('span', {'class':'text-success'})\n",
    "    bid_data = element.findAll('div', {'class':'col-block'})"
   ]
  },
  {
   "cell_type": "code",
   "execution_count": 125,
   "metadata": {},
   "outputs": [],
   "source": [
    "for data in bid_data:\n",
    "    address = data.findAll('div', {'class':'add-height'})"
   ]
  },
  {
   "cell_type": "code",
   "execution_count": 126,
   "metadata": {},
   "outputs": [
    {
     "name": "stdout",
     "output_type": "stream",
     "text": [
      "[]\n"
     ]
    }
   ],
   "source": [
    "print(address)"
   ]
  },
  {
   "cell_type": "code",
   "execution_count": null,
   "metadata": {},
   "outputs": [],
   "source": []
  },
  {
   "cell_type": "code",
   "execution_count": null,
   "metadata": {},
   "outputs": [],
   "source": []
  },
  {
   "cell_type": "code",
   "execution_count": 121,
   "metadata": {},
   "outputs": [
    {
     "name": "stdout",
     "output_type": "stream",
     "text": [
      "11\n",
      "<class 'bs4.element.Tag'>\n",
      "<p><strong>Items: </strong><span>BOQ_1,BOQ_2,BOQ_3,BOQ_4,BOQ_5,BOQ_6,BOQ_7,BOQ_8,BOQ_9</span></p>\n",
      "7\n",
      "<class 'bs4.element.Tag'>\n",
      "<p><strong>Department Name And Address:</strong></p>\n",
      "7\n",
      "<class 'bs4.element.Tag'>\n",
      "<p><strong>Start Date: </strong><span>03-03-2022 01:59 PM</span></p>\n",
      "11\n",
      "<class 'bs4.element.Tag'>\n",
      "<p><strong>Items: </strong><span>Canope Tent 12 x 6 ft,Speacl BRO printed Part-1,Glass 6x5x12 mm,Megha Phone Ahuja,Marker boy light</span></p>\n",
      "7\n",
      "<class 'bs4.element.Tag'>\n",
      "<p><strong>Department Name And Address:</strong></p>\n",
      "7\n",
      "<class 'bs4.element.Tag'>\n",
      "<p><strong>Start Date: </strong><span>03-03-2022 01:58 PM</span></p>\n",
      "11\n",
      "<class 'bs4.element.Tag'>\n",
      "<p><strong>Items: </strong><span>HDD,HDD,PCI CARD,BATTERY</span></p>\n",
      "7\n",
      "<class 'bs4.element.Tag'>\n",
      "<p><strong>Department Name And Address:</strong></p>\n",
      "7\n",
      "<class 'bs4.element.Tag'>\n",
      "<p><strong>Start Date: </strong><span>03-03-2022 01:55 PM</span></p>\n",
      "11\n",
      "<class 'bs4.element.Tag'>\n",
      "<p><strong>Items: </strong><span>Online UPS 3 kba with battery</span></p>\n",
      "7\n",
      "<class 'bs4.element.Tag'>\n",
      "<p><strong>Department Name And Address:</strong></p>\n",
      "7\n",
      "<class 'bs4.element.Tag'>\n",
      "<p><strong>Start Date: </strong><span>03-03-2022 01:54 PM</span></p>\n",
      "11\n",
      "<class 'bs4.element.Tag'>\n",
      "<p><strong>Items: </strong><span>Split Air Conditioner including Green AC</span></p>\n",
      "7\n",
      "<class 'bs4.element.Tag'>\n",
      "<p><strong>Department Name And Address:</strong></p>\n",
      "7\n",
      "<class 'bs4.element.Tag'>\n",
      "<p><strong>Start Date: </strong><span>03-03-2022 02:04 PM</span></p>\n",
      "11\n",
      "<class 'bs4.element.Tag'>\n",
      "<p><strong>Items: </strong><span>E Cart</span></p>\n",
      "7\n",
      "<class 'bs4.element.Tag'>\n",
      "<p><strong>Department Name And Address:</strong></p>\n",
      "7\n",
      "<class 'bs4.element.Tag'>\n",
      "<p><strong>Start Date: </strong><span>03-03-2022 01:51 PM</span></p>\n",
      "11\n",
      "<class 'bs4.element.Tag'>\n",
      "<p><strong>Items: </strong><span>INTERACTIVE INFORMATRION KIOSK 50 INCH</span></p>\n",
      "7\n",
      "<class 'bs4.element.Tag'>\n",
      "<p><strong>Department Name And Address:</strong></p>\n",
      "7\n",
      "<class 'bs4.element.Tag'>\n",
      "<p><strong>Start Date: </strong><span>03-03-2022 01:56 PM</span></p>\n",
      "11\n",
      "<class 'bs4.element.Tag'>\n",
      "<p><strong>Items: </strong><span>Wilfit Spares</span></p>\n",
      "7\n",
      "<class 'bs4.element.Tag'>\n",
      "<p><strong>Department Name And Address:</strong></p>\n",
      "7\n",
      "<class 'bs4.element.Tag'>\n",
      "<p><strong>Start Date: </strong><span>03-03-2022 01:45 PM</span></p>\n",
      "11\n",
      "<class 'bs4.element.Tag'>\n",
      "<p><strong>Items: </strong><span>Track Suit</span></p>\n",
      "7\n",
      "<class 'bs4.element.Tag'>\n",
      "<p><strong>Department Name And Address:</strong></p>\n",
      "7\n",
      "<class 'bs4.element.Tag'>\n",
      "<p><strong>Start Date: </strong><span>03-03-2022 01:39 PM</span></p>\n",
      "11\n",
      "<class 'bs4.element.Tag'>\n",
      "<p><strong>Items: </strong><span>HOCKEY STICK,FOOTBALL,VOLLEYBALL,BASKETBALL,HANDBALL,FOOTBALL GOAL NET,BASKETBALL NET,VOLLEYBALL NE</span></p>\n",
      "7\n",
      "<class 'bs4.element.Tag'>\n",
      "<p><strong>Department Name And Address:</strong></p>\n",
      "7\n",
      "<class 'bs4.element.Tag'>\n",
      "<p><strong>Start Date: </strong><span>03-03-2022 01:46 PM</span></p>\n"
     ]
    }
   ],
   "source": [
    "for element in bid_list:\n",
    "    bid_numbers = element.findAll('p', {'class':'bid_no'})\n",
    "    bid_status = element.findAll('span', {'class':'text-success'})\n",
    "    bid_data = element.findAll('div', {'class':'col-block'})\n",
    "#     print(type(bid_data))\n",
    "#     result = []\n",
    "#     items = []\n",
    "    for data in bid_data:\n",
    "        print(len(data))\n",
    "        print(type(data))\n",
    "        print(data.p)\n",
    "        print(data.find)\n",
    "#         items.extend(data.findAll('p'))\n",
    "#         items = data.findAll('p')\n",
    "#         print(type(items))\n",
    "#         for item in items:\n",
    "#             print(type(item))\n",
    "#             print(len(item))\n",
    "#             print(item)\n",
    "#             break\n",
    "#     print(items)\n",
    "    break\n",
    "    print(len(result))\n",
    "    for i in result:\n",
    "        print(type(i))\n",
    "        print(len(i))\n",
    "        #print(i.text)\n",
    "    bid_items = bid_data.findAll('p')\n",
    "    print(bid_data[0].p.text)\n",
    "#     for data in bid_items:\n",
    "#         print(data)\n",
    "#     for bid in bid_numbers:\n",
    "#         print(bid.text)\n",
    "#     for status in bid_status:\n",
    "#         print(status.text)\n",
    "    for items in bid_items:\n",
    "        \n",
    "        #print(items.span)\n",
    "#         print(items.text)\n",
    "#         print(type(items))\n",
    "#         print(len(items))\n",
    "        print(items.text)\n",
    "\n",
    "    "
   ]
  },
  {
   "cell_type": "code",
   "execution_count": null,
   "metadata": {},
   "outputs": [],
   "source": []
  }
 ],
 "metadata": {
  "kernelspec": {
   "display_name": "Python 3",
   "language": "python",
   "name": "python3"
  },
  "language_info": {
   "codemirror_mode": {
    "name": "ipython",
    "version": 3
   },
   "file_extension": ".py",
   "mimetype": "text/x-python",
   "name": "python",
   "nbconvert_exporter": "python",
   "pygments_lexer": "ipython3",
   "version": "3.6.7"
  }
 },
 "nbformat": 4,
 "nbformat_minor": 2
}
