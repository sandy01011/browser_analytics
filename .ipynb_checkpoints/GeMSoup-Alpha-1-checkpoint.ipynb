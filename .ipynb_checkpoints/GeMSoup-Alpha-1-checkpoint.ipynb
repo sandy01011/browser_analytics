{
 "cells": [
  {
   "cell_type": "code",
   "execution_count": 74,
   "metadata": {},
   "outputs": [],
   "source": [
    "# importing required libraries\n",
    "import requests\n",
    "from bs4 import BeautifulSoup as bs\n",
    "import re\n",
    "import pandas as pd\n",
    "import time"
   ]
  },
  {
   "cell_type": "code",
   "execution_count": 75,
   "metadata": {},
   "outputs": [],
   "source": [
    "def gemSoup(url):\n",
    "    try:\n",
    "        page = requests.get(url)\n",
    "    except Exception as exception:\n",
    "        print(exception)\n",
    "    page_status = page.status_code   # if page try fails then page is referenced before assignment correct it\n",
    "    if page_status == 200:\n",
    "        print(\"{} loaded successfully\".format(url))\n",
    "    else:\n",
    "        print(\"{} loading failed with status code {}\".format(url, page_status)) \n",
    "    encoding = page.encoding\n",
    "    headers = page.headers\n",
    "    # content = page.content # binary dump\n",
    "    # text = page.txt # textual dump\n",
    "    #print(encoding, headers)\n",
    "    soup = bs(page.content,'html.parser')\n",
    "    return soup"
   ]
  },
  {
   "cell_type": "code",
   "execution_count": 3,
   "metadata": {},
   "outputs": [
    {
     "name": "stdout",
     "output_type": "stream",
     "text": [
      "https://bidplus.gem.gov.in/bidresultlists loaded successfully\n"
     ]
    }
   ],
   "source": [
    "my_soup = gemSoup(\"https://bidplus.gem.gov.in/bidresultlists\")"
   ]
  },
  {
   "cell_type": "code",
   "execution_count": 76,
   "metadata": {},
   "outputs": [],
   "source": [
    "# GeM Bid data scaper\n",
    "def gemBid(soup):\n",
    "    bid_number = []\n",
    "    bid_status = []\n",
    "    bid_dep_add = []\n",
    "    bid_iqc = []\n",
    "    bid_date = []\n",
    "    # load bid section\n",
    "    bid_list = my_soup.findAll('div', {'id':'pagi_content'})\n",
    "    column_data = my_soup.findAll('div', {'class':'col-block'})\n",
    "    for element in bid_list:\n",
    "        bid_numbers = element.findAll('p', {'class':'bid_no'})\n",
    "        bid_status_data = element.findAll('span', {'class':'text-success'})\n",
    "    for bid in bid_numbers:\n",
    "        bid_number.append(bid.text)\n",
    "    for status in bid_status_data:\n",
    "        bid_status.append(status.text)\n",
    "    iqc_start = 0 # Items, Quantity required, Corrigendum\n",
    "    col_end = len(column_data)\n",
    "    for index in range(iqc_start,col_end,3):\n",
    "        bid_iqc.append(column_data[index].text)\n",
    "    add_start = 1 # bidder address\n",
    "    col_end = len(column_data)\n",
    "    for index in range(add_start,col_end,3):\n",
    "        bid_dep_add.append(column_data[index].text)\n",
    "    bid_date_start = 2 # bidding start and end date\n",
    "    col_end = len(column_data)\n",
    "    for index in range(bid_date_start,col_end,3):\n",
    "        bid_date.append(column_data[index].text)\n",
    "    return (bid_number, bid_status, bid_dep_add, bid_iqc, bid_date) #clean all lists before returning\n",
    "    "
   ]
  },
  {
   "cell_type": "code",
   "execution_count": 77,
   "metadata": {},
   "outputs": [],
   "source": [
    "# pagination\n",
    "def gemPage(soup):\n",
    "    pagination = soup.findAll('ul', {'class':'pagination'})\n",
    "    for page in pagination:\n",
    "        current_page = int(page.findAll('li', {'class':'active'})[0].text)\n",
    "        # last page value is coming in 4th 'a' tag\n",
    "        last_page = page.findAll('a', {'data-ci-pagination-page':True})[3]['data-ci-pagination-page']\n",
    "        rel = page.findAll('a', {'rel':True})\n",
    "        if current_page >= 1 and page.findAll('a', {'rel':True})[0]['rel'][0] == 'next':\n",
    "            next_page_ref = page.findAll('a', {'rel':True})[0]['href']\n",
    "            return (current_page, last_page, next_page_ref)\n",
    "        elif page.findAll('a', {'rel':True})[0]['rel'][0] == 'prev':\n",
    "            print('last page reached')\n",
    "            return None\n",
    "        else:\n",
    "            print(\"unknown error\")\n",
    "        break"
   ]
  },
  {
   "cell_type": "code",
   "execution_count": 78,
   "metadata": {},
   "outputs": [
    {
     "name": "stdout",
     "output_type": "stream",
     "text": [
      "https://bidplus.gem.gov.in/bidresultlists loaded successfully\n",
      "https://bidplus.gem.gov.in/bidresultlists?bidresultlists&page_no=AMCR24yMNFkfoXF3wKPmGMy_wV8TJPAlxm6oWiTHGOI loaded successfully\n",
      "last page reached\n"
     ]
    }
   ],
   "source": [
    "domain = \"https://bidplus.gem.gov.in\"\n",
    "rel = \"/bidresultlists\"\n",
    "url = domain + rel\n",
    "my_soup = gemSoup(url)\n",
    "BID_NO = []\n",
    "BID_STATUS = [] \n",
    "BID_D_ADD = []\n",
    "BID_IQC = []\n",
    "BID_DATE = []\n",
    "page = gemPage(my_soup)\n",
    "for page_number in range(int(page[0]) ,int(page[1]) +1):\n",
    "    bid_data = gemBid(my_soup)\n",
    "    BID_NO.append(bid_data[0])\n",
    "    BID_STATUS.append(bid_data[1])\n",
    "    BID_D_ADD.append(bid_data[2])\n",
    "    BID_IQC.append(bid_data[3])\n",
    "    BID_DATE.append(bid_data[4])\n",
    "    try:\n",
    "        url = domain + page[2]\n",
    "        time.sleep(5)\n",
    "        my_soup = gemSoup(url)\n",
    "        page = gemPage(my_soup)\n",
    "    except:\n",
    "        continue\n",
    "df = pd.DataFrame({'BID_NO':BID_NO,'BID_STATUS':BID_STATUS, 'BID_D_ADD':BID_D_ADD, 'BID_IQC':BID_IQC, 'BID_DATE':BID_DATE})\n",
    "json_data = df.to_json('./GeM_export.json', orient='index')"
   ]
  },
  {
   "cell_type": "code",
   "execution_count": 58,
   "metadata": {},
   "outputs": [],
   "source": [
    "next_page = gemPage(my_soup)"
   ]
  },
  {
   "cell_type": "code",
   "execution_count": 59,
   "metadata": {},
   "outputs": [
    {
     "name": "stdout",
     "output_type": "stream",
     "text": [
      "(1, '122', '/bidresultlists?bidresultlists&page_no=AMCR24yMNFkfoXF3wKPmGMy_wV8TJPAlxm6oWiTHGOI')\n"
     ]
    }
   ],
   "source": [
    "print(next_page)"
   ]
  },
  {
   "cell_type": "code",
   "execution_count": 12,
   "metadata": {},
   "outputs": [
    {
     "name": "stdout",
     "output_type": "stream",
     "text": [
      "https://bidplus.gem.gov.in/bidresultlists?bidresultlists&page_no=AMCR24yMNFkfoXF3wKPmGMy_wV8TJPAlxm6oWiTHGOI loaded successfully\n"
     ]
    }
   ],
   "source": [
    "url = domain + next_page\n",
    "my_soup = gemSoup(url)"
   ]
  },
  {
   "cell_type": "code",
   "execution_count": 13,
   "metadata": {},
   "outputs": [],
   "source": [
    "gembid = gemBid(my_soup)"
   ]
  },
  {
   "cell_type": "code",
   "execution_count": 15,
   "metadata": {},
   "outputs": [
    {
     "name": "stdout",
     "output_type": "stream",
     "text": [
      "['Not Evaluated', 'Financial Evaluation', 'Not Evaluated', 'Technical Evaluation', 'Bid Award', 'Not Evaluated', 'Technical Evaluation', 'Not Evaluated', 'Not Evaluated', 'Bid Award']\n"
     ]
    }
   ],
   "source": [
    "#print(gembid[0], gembid[1], gembid[2], gembid[3], gembid[4])\n",
    "print(gembid[1])"
   ]
  },
  {
   "cell_type": "code",
   "execution_count": null,
   "metadata": {},
   "outputs": [],
   "source": []
  },
  {
   "cell_type": "code",
   "execution_count": 13,
   "metadata": {},
   "outputs": [],
   "source": [
    "df = pd.DataFrame({'BID_NO':gembid[0],'BID_STATUS':gembid[1], 'BID_D_ADD':gembid[2], 'BID_IQC':gembid[3], 'BID_DATE':gembid[4]})"
   ]
  },
  {
   "cell_type": "code",
   "execution_count": 14,
   "metadata": {},
   "outputs": [
    {
     "data": {
      "text/html": [
       "<div>\n",
       "<style scoped>\n",
       "    .dataframe tbody tr th:only-of-type {\n",
       "        vertical-align: middle;\n",
       "    }\n",
       "\n",
       "    .dataframe tbody tr th {\n",
       "        vertical-align: top;\n",
       "    }\n",
       "\n",
       "    .dataframe thead th {\n",
       "        text-align: right;\n",
       "    }\n",
       "</style>\n",
       "<table border=\"1\" class=\"dataframe\">\n",
       "  <thead>\n",
       "    <tr style=\"text-align: right;\">\n",
       "      <th></th>\n",
       "      <th>BID_NO</th>\n",
       "      <th>BID_STATUS</th>\n",
       "      <th>BID_D_ADD</th>\n",
       "      <th>BID_IQC</th>\n",
       "      <th>BID_DATE</th>\n",
       "    </tr>\n",
       "  </thead>\n",
       "  <tbody>\n",
       "    <tr>\n",
       "      <th>0</th>\n",
       "      <td>BID NO: GEM/2022/B/2005624</td>\n",
       "      <td>Not Evaluated</td>\n",
       "      <td>\\nDepartment Name And Address:\\n\\n            ...</td>\n",
       "      <td>\\nItems: PA System,PA System,PA System,PA Syst...</td>\n",
       "      <td>\\nStart Date: 03-03-2022 06:00 PM\\nEnd Date: 0...</td>\n",
       "    </tr>\n",
       "    <tr>\n",
       "      <th>1</th>\n",
       "      <td>BID NO: GEM/2022/B/2005574</td>\n",
       "      <td>Not Evaluated</td>\n",
       "      <td>\\nDepartment Name And Address:\\n\\n            ...</td>\n",
       "      <td>\\nItems: ALS,ALS,ALS\\nQuantity Required: 3\\nVi...</td>\n",
       "      <td>\\nStart Date: 03-03-2022 05:55 PM\\nEnd Date: 0...</td>\n",
       "    </tr>\n",
       "    <tr>\n",
       "      <th>2</th>\n",
       "      <td>BID NO: GEM/2022/B/2005272</td>\n",
       "      <td>Not Evaluated</td>\n",
       "      <td>\\nDepartment Name And Address:\\n\\n            ...</td>\n",
       "      <td>\\nItems: Printer\\nQuantity Required: 1\\nView C...</td>\n",
       "      <td>\\nStart Date: 03-03-2022 05:23 PM\\nEnd Date: 0...</td>\n",
       "    </tr>\n",
       "    <tr>\n",
       "      <th>3</th>\n",
       "      <td>BID NO: GEM/2022/B/2005090</td>\n",
       "      <td>Not Evaluated</td>\n",
       "      <td>\\nDepartment Name And Address:\\n\\n            ...</td>\n",
       "      <td>\\nItems: Short Term Cab &amp; Taxi Hiring Services...</td>\n",
       "      <td>\\nStart Date: 03-03-2022 05:47 PM\\nEnd Date: 0...</td>\n",
       "    </tr>\n",
       "    <tr>\n",
       "      <th>4</th>\n",
       "      <td>BID NO: GEM/2022/B/2004756</td>\n",
       "      <td>Not Evaluated</td>\n",
       "      <td>\\nDepartment Name And Address:\\n\\n            ...</td>\n",
       "      <td>\\nItems: CURTAINS\\nQuantity Required: 210\\nVie...</td>\n",
       "      <td>\\nStart Date: 03-03-2022 03:45 PM\\nEnd Date: 0...</td>\n",
       "    </tr>\n",
       "    <tr>\n",
       "      <th>5</th>\n",
       "      <td>BID NO: GEM/2022/B/2004713</td>\n",
       "      <td>Not Evaluated</td>\n",
       "      <td>\\nDepartment Name And Address:\\n\\n            ...</td>\n",
       "      <td>\\nItems: Steel Chairs\\nQuantity Required: 21\\n...</td>\n",
       "      <td>\\nStart Date: 03-03-2022 03:46 PM\\nEnd Date: 0...</td>\n",
       "    </tr>\n",
       "    <tr>\n",
       "      <th>6</th>\n",
       "      <td>BID NO: GEM/2022/B/2004642</td>\n",
       "      <td>Not Evaluated</td>\n",
       "      <td>\\nDepartment Name And Address:\\n\\n            ...</td>\n",
       "      <td>\\nItems: Kyocera 1800-200 drum unit change,Key...</td>\n",
       "      <td>\\nStart Date: 03-03-2022 03:51 PM\\nEnd Date: 0...</td>\n",
       "    </tr>\n",
       "    <tr>\n",
       "      <th>7</th>\n",
       "      <td>BID NO: GEM/2022/B/2004555</td>\n",
       "      <td>Not Evaluated</td>\n",
       "      <td>\\nDepartment Name And Address:\\n\\n            ...</td>\n",
       "      <td>\\nItems: Full Plate,Qtr Plate 7,Bowl 9 cm,Dong...</td>\n",
       "      <td>\\nStart Date: 03-03-2022 05:39 PM\\nEnd Date: 0...</td>\n",
       "    </tr>\n",
       "    <tr>\n",
       "      <th>8</th>\n",
       "      <td>BID NO: GEM/2022/B/2003680</td>\n",
       "      <td>Not Evaluated</td>\n",
       "      <td>\\nDepartment Name And Address:\\n\\n            ...</td>\n",
       "      <td>\\nItems: Web Camera for Video Conferencing,Mic...</td>\n",
       "      <td>\\nStart Date: 03-03-2022 12:55 PM\\nEnd Date: 0...</td>\n",
       "    </tr>\n",
       "    <tr>\n",
       "      <th>9</th>\n",
       "      <td>BID NO: GEM/2022/B/2003274</td>\n",
       "      <td>Not Evaluated</td>\n",
       "      <td>\\nDepartment Name And Address:\\n\\n            ...</td>\n",
       "      <td>\\nItems: Brake Bleeding Machine,Parts Cleaner ...</td>\n",
       "      <td>\\nStart Date: 03-03-2022 12:00 PM\\nEnd Date: 0...</td>\n",
       "    </tr>\n",
       "  </tbody>\n",
       "</table>\n",
       "</div>"
      ],
      "text/plain": [
       "                        BID_NO     BID_STATUS  \\\n",
       "0   BID NO: GEM/2022/B/2005624  Not Evaluated   \n",
       "1   BID NO: GEM/2022/B/2005574  Not Evaluated   \n",
       "2   BID NO: GEM/2022/B/2005272  Not Evaluated   \n",
       "3   BID NO: GEM/2022/B/2005090  Not Evaluated   \n",
       "4   BID NO: GEM/2022/B/2004756  Not Evaluated   \n",
       "5   BID NO: GEM/2022/B/2004713  Not Evaluated   \n",
       "6   BID NO: GEM/2022/B/2004642  Not Evaluated   \n",
       "7   BID NO: GEM/2022/B/2004555  Not Evaluated   \n",
       "8   BID NO: GEM/2022/B/2003680  Not Evaluated   \n",
       "9   BID NO: GEM/2022/B/2003274  Not Evaluated   \n",
       "\n",
       "                                           BID_D_ADD  \\\n",
       "0  \\nDepartment Name And Address:\\n\\n            ...   \n",
       "1  \\nDepartment Name And Address:\\n\\n            ...   \n",
       "2  \\nDepartment Name And Address:\\n\\n            ...   \n",
       "3  \\nDepartment Name And Address:\\n\\n            ...   \n",
       "4  \\nDepartment Name And Address:\\n\\n            ...   \n",
       "5  \\nDepartment Name And Address:\\n\\n            ...   \n",
       "6  \\nDepartment Name And Address:\\n\\n            ...   \n",
       "7  \\nDepartment Name And Address:\\n\\n            ...   \n",
       "8  \\nDepartment Name And Address:\\n\\n            ...   \n",
       "9  \\nDepartment Name And Address:\\n\\n            ...   \n",
       "\n",
       "                                             BID_IQC  \\\n",
       "0  \\nItems: PA System,PA System,PA System,PA Syst...   \n",
       "1  \\nItems: ALS,ALS,ALS\\nQuantity Required: 3\\nVi...   \n",
       "2  \\nItems: Printer\\nQuantity Required: 1\\nView C...   \n",
       "3  \\nItems: Short Term Cab & Taxi Hiring Services...   \n",
       "4  \\nItems: CURTAINS\\nQuantity Required: 210\\nVie...   \n",
       "5  \\nItems: Steel Chairs\\nQuantity Required: 21\\n...   \n",
       "6  \\nItems: Kyocera 1800-200 drum unit change,Key...   \n",
       "7  \\nItems: Full Plate,Qtr Plate 7,Bowl 9 cm,Dong...   \n",
       "8  \\nItems: Web Camera for Video Conferencing,Mic...   \n",
       "9  \\nItems: Brake Bleeding Machine,Parts Cleaner ...   \n",
       "\n",
       "                                            BID_DATE  \n",
       "0  \\nStart Date: 03-03-2022 06:00 PM\\nEnd Date: 0...  \n",
       "1  \\nStart Date: 03-03-2022 05:55 PM\\nEnd Date: 0...  \n",
       "2  \\nStart Date: 03-03-2022 05:23 PM\\nEnd Date: 0...  \n",
       "3  \\nStart Date: 03-03-2022 05:47 PM\\nEnd Date: 0...  \n",
       "4  \\nStart Date: 03-03-2022 03:45 PM\\nEnd Date: 0...  \n",
       "5  \\nStart Date: 03-03-2022 03:46 PM\\nEnd Date: 0...  \n",
       "6  \\nStart Date: 03-03-2022 03:51 PM\\nEnd Date: 0...  \n",
       "7  \\nStart Date: 03-03-2022 05:39 PM\\nEnd Date: 0...  \n",
       "8  \\nStart Date: 03-03-2022 12:55 PM\\nEnd Date: 0...  \n",
       "9  \\nStart Date: 03-03-2022 12:00 PM\\nEnd Date: 0...  "
      ]
     },
     "execution_count": 14,
     "metadata": {},
     "output_type": "execute_result"
    }
   ],
   "source": [
    "df.head(10)"
   ]
  },
  {
   "cell_type": "code",
   "execution_count": 15,
   "metadata": {},
   "outputs": [
    {
     "data": {
      "text/plain": [
       "0     BID NO: GEM/2022/B/2005624\n",
       "1     BID NO: GEM/2022/B/2005574\n",
       "2     BID NO: GEM/2022/B/2005272\n",
       "3     BID NO: GEM/2022/B/2005090\n",
       "4     BID NO: GEM/2022/B/2004756\n",
       "5     BID NO: GEM/2022/B/2004713\n",
       "6     BID NO: GEM/2022/B/2004642\n",
       "7     BID NO: GEM/2022/B/2004555\n",
       "8     BID NO: GEM/2022/B/2003680\n",
       "9     BID NO: GEM/2022/B/2003274\n",
       "Name: BID_NO, dtype: object"
      ]
     },
     "execution_count": 15,
     "metadata": {},
     "output_type": "execute_result"
    }
   ],
   "source": [
    "df.BID_NO"
   ]
  }
 ],
 "metadata": {
  "kernelspec": {
   "display_name": "Python 3",
   "language": "python",
   "name": "python3"
  },
  "language_info": {
   "codemirror_mode": {
    "name": "ipython",
    "version": 3
   },
   "file_extension": ".py",
   "mimetype": "text/x-python",
   "name": "python",
   "nbconvert_exporter": "python",
   "pygments_lexer": "ipython3",
   "version": "3.6.7"
  }
 },
 "nbformat": 4,
 "nbformat_minor": 2
}
